{
 "cells": [
  {
   "cell_type": "code",
   "execution_count": 225,
   "id": "5d118ae4",
   "metadata": {},
   "outputs": [],
   "source": [
    "#!pip install seaborn\n",
    "#!pip install tensorflow\n",
    "#!pip install Plotly\n",
    "#!pip install pandoc\n",
    "import pandoc"
   ]
  },
  {
   "cell_type": "markdown",
   "id": "072b3585",
   "metadata": {},
   "source": [
    "Import knihoven."
   ]
  },
  {
   "cell_type": "code",
   "execution_count": 2,
   "id": "2ef5fcae",
   "metadata": {},
   "outputs": [],
   "source": [
    "import pandas as pd\n",
    "import matplotlib\n",
    "import numpy as np\n",
    "from matplotlib import pyplot as plt\n",
    "import seaborn as sns\n",
    "\n",
    "from sklearn.model_selection import train_test_split\n",
    "\n",
    "from sklearn import linear_model\n",
    "pd.set_option(\"display.max_columns\", None) #pro zobrazeni vsech sloupcu\n",
    "\n",
    "import plotly.offline as py\n",
    "py.init_notebook_mode(connected=True)\n",
    "import plotly.graph_objs as go\n",
    "import plotly.tools as tls\n",
    "\n",
    "from sklearn.ensemble import RandomForestClassifier\n",
    "from sklearn.model_selection import train_test_split\n",
    "from sklearn.decomposition import PCA,TruncatedSVD\n",
    "\n",
    "from sklearn.preprocessing import StandardScaler\n",
    "import sklearn as sk\n",
    "from sklearn.neural_network import MLPClassifier\n",
    "from keras.wrappers.scikit_learn import KerasClassifier\n",
    "from sklearn.model_selection import cross_val_score\n",
    "from keras.models import Sequential\n",
    "from keras.layers import Dense\n",
    "from keras.layers import Dropout\n",
    "from sklearn.model_selection import GridSearchCV\n",
    "\n",
    "import sklearn as sk\n",
    "from sklearn import svm\n",
    "import pandas as pd\n",
    "import os\n",
    "\n",
    "\n",
    "df = pd.read_csv('WA_Fn-UseC_-HR-Employee-Attrition.csv')"
   ]
  },
  {
   "cell_type": "markdown",
   "id": "b0866867",
   "metadata": {},
   "source": [
    "Zjistim, jakych hodnot nabyvaji sloupce. Zhodnotim sledovane parametry zamestnancu."
   ]
  },
  {
   "cell_type": "code",
   "execution_count": 3,
   "id": "a04ab447",
   "metadata": {},
   "outputs": [
    {
     "data": {
      "text/plain": [
       "Age                           43\n",
       "Attrition                      2\n",
       "BusinessTravel                 3\n",
       "DailyRate                    886\n",
       "Department                     3\n",
       "DistanceFromHome              29\n",
       "Education                      5\n",
       "EducationField                 6\n",
       "EmployeeCount                  1\n",
       "EmployeeNumber              1470\n",
       "EnvironmentSatisfaction        4\n",
       "Gender                         2\n",
       "HourlyRate                    71\n",
       "JobInvolvement                 4\n",
       "JobLevel                       5\n",
       "JobRole                        9\n",
       "JobSatisfaction                4\n",
       "MaritalStatus                  3\n",
       "MonthlyIncome               1349\n",
       "MonthlyRate                 1427\n",
       "NumCompaniesWorked            10\n",
       "Over18                         1\n",
       "OverTime                       2\n",
       "PercentSalaryHike             15\n",
       "PerformanceRating              2\n",
       "RelationshipSatisfaction       4\n",
       "StandardHours                  1\n",
       "StockOptionLevel               4\n",
       "TotalWorkingYears             40\n",
       "TrainingTimesLastYear          7\n",
       "WorkLifeBalance                4\n",
       "YearsAtCompany                37\n",
       "YearsInCurrentRole            19\n",
       "YearsSinceLastPromotion       16\n",
       "YearsWithCurrManager          18\n",
       "dtype: int64"
      ]
     },
     "execution_count": 3,
     "metadata": {},
     "output_type": "execute_result"
    }
   ],
   "source": [
    "df.nunique()"
   ]
  },
  {
   "cell_type": "code",
   "execution_count": 52,
   "id": "3885c177",
   "metadata": {},
   "outputs": [
    {
     "data": {
      "text/html": [
       "<div>\n",
       "<style scoped>\n",
       "    .dataframe tbody tr th:only-of-type {\n",
       "        vertical-align: middle;\n",
       "    }\n",
       "\n",
       "    .dataframe tbody tr th {\n",
       "        vertical-align: top;\n",
       "    }\n",
       "\n",
       "    .dataframe thead th {\n",
       "        text-align: right;\n",
       "    }\n",
       "</style>\n",
       "<table border=\"1\" class=\"dataframe\">\n",
       "  <thead>\n",
       "    <tr style=\"text-align: right;\">\n",
       "      <th></th>\n",
       "      <th>Age</th>\n",
       "      <th>DailyRate</th>\n",
       "      <th>DistanceFromHome</th>\n",
       "      <th>Education</th>\n",
       "      <th>EmployeeCount</th>\n",
       "      <th>EmployeeNumber</th>\n",
       "      <th>EnvironmentSatisfaction</th>\n",
       "      <th>HourlyRate</th>\n",
       "      <th>JobInvolvement</th>\n",
       "      <th>JobLevel</th>\n",
       "      <th>JobSatisfaction</th>\n",
       "      <th>MonthlyIncome</th>\n",
       "      <th>MonthlyRate</th>\n",
       "      <th>NumCompaniesWorked</th>\n",
       "      <th>PercentSalaryHike</th>\n",
       "      <th>PerformanceRating</th>\n",
       "      <th>RelationshipSatisfaction</th>\n",
       "      <th>StandardHours</th>\n",
       "      <th>StockOptionLevel</th>\n",
       "      <th>TotalWorkingYears</th>\n",
       "      <th>TrainingTimesLastYear</th>\n",
       "      <th>WorkLifeBalance</th>\n",
       "      <th>YearsAtCompany</th>\n",
       "      <th>YearsInCurrentRole</th>\n",
       "      <th>YearsSinceLastPromotion</th>\n",
       "      <th>YearsWithCurrManager</th>\n",
       "    </tr>\n",
       "  </thead>\n",
       "  <tbody>\n",
       "    <tr>\n",
       "      <th>count</th>\n",
       "      <td>1470.000000</td>\n",
       "      <td>1470.000000</td>\n",
       "      <td>1470.000000</td>\n",
       "      <td>1470.000000</td>\n",
       "      <td>1470.0</td>\n",
       "      <td>1470.000000</td>\n",
       "      <td>1470.000000</td>\n",
       "      <td>1470.000000</td>\n",
       "      <td>1470.000000</td>\n",
       "      <td>1470.000000</td>\n",
       "      <td>1470.000000</td>\n",
       "      <td>1470.000000</td>\n",
       "      <td>1470.000000</td>\n",
       "      <td>1470.000000</td>\n",
       "      <td>1470.000000</td>\n",
       "      <td>1470.000000</td>\n",
       "      <td>1470.000000</td>\n",
       "      <td>1470.0</td>\n",
       "      <td>1470.000000</td>\n",
       "      <td>1470.000000</td>\n",
       "      <td>1470.000000</td>\n",
       "      <td>1470.000000</td>\n",
       "      <td>1470.000000</td>\n",
       "      <td>1470.000000</td>\n",
       "      <td>1470.000000</td>\n",
       "      <td>1470.000000</td>\n",
       "    </tr>\n",
       "    <tr>\n",
       "      <th>mean</th>\n",
       "      <td>36.923810</td>\n",
       "      <td>802.485714</td>\n",
       "      <td>9.192517</td>\n",
       "      <td>2.912925</td>\n",
       "      <td>1.0</td>\n",
       "      <td>1024.865306</td>\n",
       "      <td>2.721769</td>\n",
       "      <td>65.891156</td>\n",
       "      <td>2.729932</td>\n",
       "      <td>2.063946</td>\n",
       "      <td>2.728571</td>\n",
       "      <td>6502.931293</td>\n",
       "      <td>14313.103401</td>\n",
       "      <td>2.693197</td>\n",
       "      <td>15.209524</td>\n",
       "      <td>3.153741</td>\n",
       "      <td>2.712245</td>\n",
       "      <td>80.0</td>\n",
       "      <td>0.793878</td>\n",
       "      <td>11.279592</td>\n",
       "      <td>2.799320</td>\n",
       "      <td>2.761224</td>\n",
       "      <td>7.008163</td>\n",
       "      <td>4.229252</td>\n",
       "      <td>2.187755</td>\n",
       "      <td>4.123129</td>\n",
       "    </tr>\n",
       "    <tr>\n",
       "      <th>std</th>\n",
       "      <td>9.135373</td>\n",
       "      <td>403.509100</td>\n",
       "      <td>8.106864</td>\n",
       "      <td>1.024165</td>\n",
       "      <td>0.0</td>\n",
       "      <td>602.024335</td>\n",
       "      <td>1.093082</td>\n",
       "      <td>20.329428</td>\n",
       "      <td>0.711561</td>\n",
       "      <td>1.106940</td>\n",
       "      <td>1.102846</td>\n",
       "      <td>4707.956783</td>\n",
       "      <td>7117.786044</td>\n",
       "      <td>2.498009</td>\n",
       "      <td>3.659938</td>\n",
       "      <td>0.360824</td>\n",
       "      <td>1.081209</td>\n",
       "      <td>0.0</td>\n",
       "      <td>0.852077</td>\n",
       "      <td>7.780782</td>\n",
       "      <td>1.289271</td>\n",
       "      <td>0.706476</td>\n",
       "      <td>6.126525</td>\n",
       "      <td>3.623137</td>\n",
       "      <td>3.222430</td>\n",
       "      <td>3.568136</td>\n",
       "    </tr>\n",
       "    <tr>\n",
       "      <th>min</th>\n",
       "      <td>18.000000</td>\n",
       "      <td>102.000000</td>\n",
       "      <td>1.000000</td>\n",
       "      <td>1.000000</td>\n",
       "      <td>1.0</td>\n",
       "      <td>1.000000</td>\n",
       "      <td>1.000000</td>\n",
       "      <td>30.000000</td>\n",
       "      <td>1.000000</td>\n",
       "      <td>1.000000</td>\n",
       "      <td>1.000000</td>\n",
       "      <td>1009.000000</td>\n",
       "      <td>2094.000000</td>\n",
       "      <td>0.000000</td>\n",
       "      <td>11.000000</td>\n",
       "      <td>3.000000</td>\n",
       "      <td>1.000000</td>\n",
       "      <td>80.0</td>\n",
       "      <td>0.000000</td>\n",
       "      <td>0.000000</td>\n",
       "      <td>0.000000</td>\n",
       "      <td>1.000000</td>\n",
       "      <td>0.000000</td>\n",
       "      <td>0.000000</td>\n",
       "      <td>0.000000</td>\n",
       "      <td>0.000000</td>\n",
       "    </tr>\n",
       "    <tr>\n",
       "      <th>25%</th>\n",
       "      <td>30.000000</td>\n",
       "      <td>465.000000</td>\n",
       "      <td>2.000000</td>\n",
       "      <td>2.000000</td>\n",
       "      <td>1.0</td>\n",
       "      <td>491.250000</td>\n",
       "      <td>2.000000</td>\n",
       "      <td>48.000000</td>\n",
       "      <td>2.000000</td>\n",
       "      <td>1.000000</td>\n",
       "      <td>2.000000</td>\n",
       "      <td>2911.000000</td>\n",
       "      <td>8047.000000</td>\n",
       "      <td>1.000000</td>\n",
       "      <td>12.000000</td>\n",
       "      <td>3.000000</td>\n",
       "      <td>2.000000</td>\n",
       "      <td>80.0</td>\n",
       "      <td>0.000000</td>\n",
       "      <td>6.000000</td>\n",
       "      <td>2.000000</td>\n",
       "      <td>2.000000</td>\n",
       "      <td>3.000000</td>\n",
       "      <td>2.000000</td>\n",
       "      <td>0.000000</td>\n",
       "      <td>2.000000</td>\n",
       "    </tr>\n",
       "    <tr>\n",
       "      <th>50%</th>\n",
       "      <td>36.000000</td>\n",
       "      <td>802.000000</td>\n",
       "      <td>7.000000</td>\n",
       "      <td>3.000000</td>\n",
       "      <td>1.0</td>\n",
       "      <td>1020.500000</td>\n",
       "      <td>3.000000</td>\n",
       "      <td>66.000000</td>\n",
       "      <td>3.000000</td>\n",
       "      <td>2.000000</td>\n",
       "      <td>3.000000</td>\n",
       "      <td>4919.000000</td>\n",
       "      <td>14235.500000</td>\n",
       "      <td>2.000000</td>\n",
       "      <td>14.000000</td>\n",
       "      <td>3.000000</td>\n",
       "      <td>3.000000</td>\n",
       "      <td>80.0</td>\n",
       "      <td>1.000000</td>\n",
       "      <td>10.000000</td>\n",
       "      <td>3.000000</td>\n",
       "      <td>3.000000</td>\n",
       "      <td>5.000000</td>\n",
       "      <td>3.000000</td>\n",
       "      <td>1.000000</td>\n",
       "      <td>3.000000</td>\n",
       "    </tr>\n",
       "    <tr>\n",
       "      <th>75%</th>\n",
       "      <td>43.000000</td>\n",
       "      <td>1157.000000</td>\n",
       "      <td>14.000000</td>\n",
       "      <td>4.000000</td>\n",
       "      <td>1.0</td>\n",
       "      <td>1555.750000</td>\n",
       "      <td>4.000000</td>\n",
       "      <td>83.750000</td>\n",
       "      <td>3.000000</td>\n",
       "      <td>3.000000</td>\n",
       "      <td>4.000000</td>\n",
       "      <td>8379.000000</td>\n",
       "      <td>20461.500000</td>\n",
       "      <td>4.000000</td>\n",
       "      <td>18.000000</td>\n",
       "      <td>3.000000</td>\n",
       "      <td>4.000000</td>\n",
       "      <td>80.0</td>\n",
       "      <td>1.000000</td>\n",
       "      <td>15.000000</td>\n",
       "      <td>3.000000</td>\n",
       "      <td>3.000000</td>\n",
       "      <td>9.000000</td>\n",
       "      <td>7.000000</td>\n",
       "      <td>3.000000</td>\n",
       "      <td>7.000000</td>\n",
       "    </tr>\n",
       "    <tr>\n",
       "      <th>max</th>\n",
       "      <td>60.000000</td>\n",
       "      <td>1499.000000</td>\n",
       "      <td>29.000000</td>\n",
       "      <td>5.000000</td>\n",
       "      <td>1.0</td>\n",
       "      <td>2068.000000</td>\n",
       "      <td>4.000000</td>\n",
       "      <td>100.000000</td>\n",
       "      <td>4.000000</td>\n",
       "      <td>5.000000</td>\n",
       "      <td>4.000000</td>\n",
       "      <td>19999.000000</td>\n",
       "      <td>26999.000000</td>\n",
       "      <td>9.000000</td>\n",
       "      <td>25.000000</td>\n",
       "      <td>4.000000</td>\n",
       "      <td>4.000000</td>\n",
       "      <td>80.0</td>\n",
       "      <td>3.000000</td>\n",
       "      <td>40.000000</td>\n",
       "      <td>6.000000</td>\n",
       "      <td>4.000000</td>\n",
       "      <td>40.000000</td>\n",
       "      <td>18.000000</td>\n",
       "      <td>15.000000</td>\n",
       "      <td>17.000000</td>\n",
       "    </tr>\n",
       "  </tbody>\n",
       "</table>\n",
       "</div>"
      ],
      "text/plain": [
       "               Age    DailyRate  DistanceFromHome    Education  EmployeeCount  \\\n",
       "count  1470.000000  1470.000000       1470.000000  1470.000000         1470.0   \n",
       "mean     36.923810   802.485714          9.192517     2.912925            1.0   \n",
       "std       9.135373   403.509100          8.106864     1.024165            0.0   \n",
       "min      18.000000   102.000000          1.000000     1.000000            1.0   \n",
       "25%      30.000000   465.000000          2.000000     2.000000            1.0   \n",
       "50%      36.000000   802.000000          7.000000     3.000000            1.0   \n",
       "75%      43.000000  1157.000000         14.000000     4.000000            1.0   \n",
       "max      60.000000  1499.000000         29.000000     5.000000            1.0   \n",
       "\n",
       "       EmployeeNumber  EnvironmentSatisfaction   HourlyRate  JobInvolvement  \\\n",
       "count     1470.000000              1470.000000  1470.000000     1470.000000   \n",
       "mean      1024.865306                 2.721769    65.891156        2.729932   \n",
       "std        602.024335                 1.093082    20.329428        0.711561   \n",
       "min          1.000000                 1.000000    30.000000        1.000000   \n",
       "25%        491.250000                 2.000000    48.000000        2.000000   \n",
       "50%       1020.500000                 3.000000    66.000000        3.000000   \n",
       "75%       1555.750000                 4.000000    83.750000        3.000000   \n",
       "max       2068.000000                 4.000000   100.000000        4.000000   \n",
       "\n",
       "          JobLevel  JobSatisfaction  MonthlyIncome   MonthlyRate  \\\n",
       "count  1470.000000      1470.000000    1470.000000   1470.000000   \n",
       "mean      2.063946         2.728571    6502.931293  14313.103401   \n",
       "std       1.106940         1.102846    4707.956783   7117.786044   \n",
       "min       1.000000         1.000000    1009.000000   2094.000000   \n",
       "25%       1.000000         2.000000    2911.000000   8047.000000   \n",
       "50%       2.000000         3.000000    4919.000000  14235.500000   \n",
       "75%       3.000000         4.000000    8379.000000  20461.500000   \n",
       "max       5.000000         4.000000   19999.000000  26999.000000   \n",
       "\n",
       "       NumCompaniesWorked  PercentSalaryHike  PerformanceRating  \\\n",
       "count         1470.000000        1470.000000        1470.000000   \n",
       "mean             2.693197          15.209524           3.153741   \n",
       "std              2.498009           3.659938           0.360824   \n",
       "min              0.000000          11.000000           3.000000   \n",
       "25%              1.000000          12.000000           3.000000   \n",
       "50%              2.000000          14.000000           3.000000   \n",
       "75%              4.000000          18.000000           3.000000   \n",
       "max              9.000000          25.000000           4.000000   \n",
       "\n",
       "       RelationshipSatisfaction  StandardHours  StockOptionLevel  \\\n",
       "count               1470.000000         1470.0       1470.000000   \n",
       "mean                   2.712245           80.0          0.793878   \n",
       "std                    1.081209            0.0          0.852077   \n",
       "min                    1.000000           80.0          0.000000   \n",
       "25%                    2.000000           80.0          0.000000   \n",
       "50%                    3.000000           80.0          1.000000   \n",
       "75%                    4.000000           80.0          1.000000   \n",
       "max                    4.000000           80.0          3.000000   \n",
       "\n",
       "       TotalWorkingYears  TrainingTimesLastYear  WorkLifeBalance  \\\n",
       "count        1470.000000            1470.000000      1470.000000   \n",
       "mean           11.279592               2.799320         2.761224   \n",
       "std             7.780782               1.289271         0.706476   \n",
       "min             0.000000               0.000000         1.000000   \n",
       "25%             6.000000               2.000000         2.000000   \n",
       "50%            10.000000               3.000000         3.000000   \n",
       "75%            15.000000               3.000000         3.000000   \n",
       "max            40.000000               6.000000         4.000000   \n",
       "\n",
       "       YearsAtCompany  YearsInCurrentRole  YearsSinceLastPromotion  \\\n",
       "count     1470.000000         1470.000000              1470.000000   \n",
       "mean         7.008163            4.229252                 2.187755   \n",
       "std          6.126525            3.623137                 3.222430   \n",
       "min          0.000000            0.000000                 0.000000   \n",
       "25%          3.000000            2.000000                 0.000000   \n",
       "50%          5.000000            3.000000                 1.000000   \n",
       "75%          9.000000            7.000000                 3.000000   \n",
       "max         40.000000           18.000000                15.000000   \n",
       "\n",
       "       YearsWithCurrManager  \n",
       "count           1470.000000  \n",
       "mean               4.123129  \n",
       "std                3.568136  \n",
       "min                0.000000  \n",
       "25%                2.000000  \n",
       "50%                3.000000  \n",
       "75%                7.000000  \n",
       "max               17.000000  "
      ]
     },
     "execution_count": 52,
     "metadata": {},
     "output_type": "execute_result"
    }
   ],
   "source": [
    "df_num = df.select_dtypes(include='number')\n",
    "df_num.describe()"
   ]
  },
  {
   "cell_type": "markdown",
   "id": "71d947cc",
   "metadata": {},
   "source": [
    "Ted vyradim sloupce, ktere nemaji vyznam pro tvorbu statistiky. Hodnoty v techto sloupcich jsou bud stejne pro vsechny zamestnance(Over18, StandardHours, EmployeeCount) o to mse muzeme presvedcit v predchozi tabulce, dalsi hodnotou je EmployeeNumber, ktere je jen cislem bez jakehokoli vztahu ke statistice."
   ]
  },
  {
   "cell_type": "code",
   "execution_count": 4,
   "id": "1df50f32",
   "metadata": {},
   "outputs": [],
   "source": [
    "df1 = df.drop([\"Over18\", \"EmployeeNumber\", \"StandardHours\", \"EmployeeCount\"], axis = 1)\n",
    "df_corr = df.drop([\"Over18\", \"EmployeeNumber\", \"StandardHours\", \"EmployeeCount\"], axis = 1)"
   ]
  },
  {
   "cell_type": "markdown",
   "id": "6933ccfe",
   "metadata": {},
   "source": [
    "Nasledne je nutne upravit sloupce se slovnim vyjadrenim vlastnosti pracovnika na hodnoty ciselne. "
   ]
  },
  {
   "cell_type": "code",
   "execution_count": 5,
   "id": "16908105",
   "metadata": {
    "scrolled": true
   },
   "outputs": [
    {
     "name": "stderr",
     "output_type": "stream",
     "text": [
      "C:\\Users\\kudrn\\AppData\\Local\\Temp\\ipykernel_20732\\3835211969.py:5: DeprecationWarning: `np.str` is a deprecated alias for the builtin `str`. To silence this warning, use `str` by itself. Doing this will not modify any behavior and is safe. If you specifically wanted the numpy scalar type, use `np.str_` here.\n",
      "Deprecated in NumPy 1.20; for more details and guidance: https://numpy.org/devdocs/release/1.20.0-notes.html#deprecations\n",
      "  if (df1[i].dtype == np.str or df1[i].dtype == np.object):\n",
      "C:\\Users\\kudrn\\AppData\\Local\\Temp\\ipykernel_20732\\3835211969.py:5: DeprecationWarning: `np.object` is a deprecated alias for the builtin `object`. To silence this warning, use `object` by itself. Doing this will not modify any behavior and is safe. \n",
      "Deprecated in NumPy 1.20; for more details and guidance: https://numpy.org/devdocs/release/1.20.0-notes.html#deprecations\n",
      "  if (df1[i].dtype == np.str or df1[i].dtype == np.object):\n"
     ]
    }
   ],
   "source": [
    "lst = ['Attrition','MaritalStatus', 'JobRole', 'Gender', 'EducationField', 'Department', 'BusinessTravel', 'OverTime']\n",
    "remove = list()\n",
    "for i in lst:\n",
    "    if (df1[i].dtype == np.str or df1[i].dtype == np.object):\n",
    "        for j in df1[i].unique():\n",
    "            df1[i+'_'+j] = np.where(df1[i] == j,1,0)\n",
    "        remove.append(i)\n",
    "df1 = df1.drop(remove, axis=1)"
   ]
  },
  {
   "cell_type": "code",
   "execution_count": 6,
   "id": "b575ced7",
   "metadata": {},
   "outputs": [
    {
     "data": {
      "text/plain": [
       "Age                                    43\n",
       "DailyRate                             886\n",
       "DistanceFromHome                       29\n",
       "Education                               5\n",
       "EnvironmentSatisfaction                 4\n",
       "HourlyRate                             71\n",
       "JobInvolvement                          4\n",
       "JobLevel                                5\n",
       "JobSatisfaction                         4\n",
       "MonthlyIncome                        1349\n",
       "MonthlyRate                          1427\n",
       "NumCompaniesWorked                     10\n",
       "PercentSalaryHike                      15\n",
       "PerformanceRating                       2\n",
       "RelationshipSatisfaction                4\n",
       "StockOptionLevel                        4\n",
       "TotalWorkingYears                      40\n",
       "TrainingTimesLastYear                   7\n",
       "WorkLifeBalance                         4\n",
       "YearsAtCompany                         37\n",
       "YearsInCurrentRole                     19\n",
       "YearsSinceLastPromotion                16\n",
       "YearsWithCurrManager                   18\n",
       "Attrition_Yes                           2\n",
       "Attrition_No                            2\n",
       "MaritalStatus_Single                    2\n",
       "MaritalStatus_Married                   2\n",
       "MaritalStatus_Divorced                  2\n",
       "JobRole_Sales Executive                 2\n",
       "JobRole_Research Scientist              2\n",
       "JobRole_Laboratory Technician           2\n",
       "JobRole_Manufacturing Director          2\n",
       "JobRole_Healthcare Representative       2\n",
       "JobRole_Manager                         2\n",
       "JobRole_Sales Representative            2\n",
       "JobRole_Research Director               2\n",
       "JobRole_Human Resources                 2\n",
       "Gender_Female                           2\n",
       "Gender_Male                             2\n",
       "EducationField_Life Sciences            2\n",
       "EducationField_Other                    2\n",
       "EducationField_Medical                  2\n",
       "EducationField_Marketing                2\n",
       "EducationField_Technical Degree         2\n",
       "EducationField_Human Resources          2\n",
       "Department_Sales                        2\n",
       "Department_Research & Development       2\n",
       "Department_Human Resources              2\n",
       "BusinessTravel_Travel_Rarely            2\n",
       "BusinessTravel_Travel_Frequently        2\n",
       "BusinessTravel_Non-Travel               2\n",
       "OverTime_Yes                            2\n",
       "OverTime_No                             2\n",
       "dtype: int64"
      ]
     },
     "execution_count": 6,
     "metadata": {},
     "output_type": "execute_result"
    }
   ],
   "source": [
    "df1.nunique()"
   ]
  },
  {
   "cell_type": "code",
   "execution_count": 7,
   "id": "fd04a21a",
   "metadata": {},
   "outputs": [
    {
     "data": {
      "image/png": "[encoded data removed]",
      "text/plain": [
       "<Figure size 720x576 with 1 Axes>"
      ]
     },
     "metadata": {},
     "output_type": "display_data"
    }
   ],
   "source": [
    "labels = 'Odesli', 'Zustali'\n",
    "sizes = [df1.Attrition_Yes[df1['Attrition_Yes']==1].count(), df1.Attrition_Yes[df1['Attrition_Yes']==0].count()]\n",
    "explode = (0, 0.1)\n",
    "fig1, ax1 = plt.subplots(figsize=(10, 8))\n",
    "ax1.pie(sizes, explode=explode, labels=labels, autopct='%1.1f%%',\n",
    "        shadow=True, startangle=90)\n",
    "ax1.axis('equal')\n",
    "plt.title(\"Zamestnanci, kteri zustali vs. odesli\", size = 20)\n",
    "plt.show()"
   ]
  },
  {
   "cell_type": "code",
   "execution_count": 8,
   "id": "0bd94d9c",
   "metadata": {
    "scrolled": true
   },
   "outputs": [
    {
     "data": {
      "text/plain": [
       "<AxesSubplot:xlabel='OverTime', ylabel='count'>"
      ]
     },
     "execution_count": 8,
     "metadata": {},
     "output_type": "execute_result"
    },
    {
     "data": {
      "image/png": "[encoded data removed]",
      "text/plain": [
       "<Figure size 1440x864 with 4 Axes>"
      ]
     },
     "metadata": {
      "needs_background": "light"
     },
     "output_type": "display_data"
    }
   ],
   "source": [
    "fig, axarr = plt.subplots(2, 2, figsize=(20, 12))\n",
    "sns.countplot(x='Education', hue = 'Attrition',data = df, ax=axarr[0][0])\n",
    "sns.countplot(x='Gender', hue = 'Attrition',data = df, ax=axarr[0][1])\n",
    "sns.countplot(x='WorkLifeBalance', hue = 'Attrition',data = df, ax=axarr[1][0])\n",
    "sns.countplot(x='OverTime', hue = 'Attrition',data = df, ax=axarr[1][1])"
   ]
  },
  {
   "cell_type": "code",
   "execution_count": 63,
   "id": "12362cb4",
   "metadata": {},
   "outputs": [
    {
     "name": "stdout",
     "output_type": "stream",
     "text": [
      "Attrition        No       Yes\n",
      "Education                    \n",
      "1          0.817647  0.182353\n",
      "2          0.843972  0.156028\n",
      "3          0.826923  0.173077\n",
      "4          0.854271  0.145729\n",
      "5          0.895833  0.104167\n",
      "All        0.838776  0.161224\n",
      "\n",
      "\n",
      "Attrition        No       Yes\n",
      "Gender                       \n",
      "Female     0.852041  0.147959\n",
      "Male       0.829932  0.170068\n",
      "All        0.838776  0.161224\n",
      "\n",
      "\n",
      "Attrition              No       Yes\n",
      "WorkLifeBalance                    \n",
      "1                0.687500  0.312500\n",
      "2                0.831395  0.168605\n",
      "3                0.857783  0.142217\n",
      "4                0.823529  0.176471\n",
      "All              0.838776  0.161224\n",
      "\n",
      "\n",
      "Attrition        No       Yes\n",
      "OverTime                     \n",
      "No         0.895636  0.104364\n",
      "Yes        0.694712  0.305288\n",
      "All        0.838776  0.161224\n"
     ]
    }
   ],
   "source": [
    "print(pd.crosstab(columns=[df.Attrition],index=[df.Education],margins=True,normalize='index'))\n",
    "print('\\n')\n",
    "print(pd.crosstab(columns=[df.Attrition],index=[df.Gender],margins=True,normalize='index'))\n",
    "print('\\n')\n",
    "print(pd.crosstab(columns=[df.Attrition],index=[df.WorkLifeBalance],margins=True,normalize='index'))\n",
    "print('\\n')\n",
    "print(pd.crosstab(columns=[df.Attrition],index=[df.OverTime],margins=True,normalize='index'))"
   ]
  },
  {
   "cell_type": "code",
   "execution_count": 134,
   "id": "56936c49",
   "metadata": {},
   "outputs": [
    {
     "data": {
      "text/plain": [
       "<AxesSubplot:xlabel='Attrition', ylabel='PercentSalaryHike'>"
      ]
     },
     "execution_count": 134,
     "metadata": {},
     "output_type": "execute_result"
    },
    {
     "data": {
      "image/png": "[encoded data removed]",
      "text/plain": [
       "<Figure size 1440x864 with 6 Axes>"
      ]
     },
     "metadata": {
      "needs_background": "light"
     },
     "output_type": "display_data"
    }
   ],
   "source": [
    "fig, axarr = plt.subplots(3, 2, figsize=(20, 12))\n",
    "sns.boxplot(y='DistanceFromHome',x = 'Attrition', hue = 'Attrition',data = df, ax=axarr[0][0])\n",
    "sns.boxplot(y='Age',x = 'Attrition', hue = 'Attrition',data = df , ax=axarr[0][1])\n",
    "sns.boxplot(y='MonthlyIncome',x = 'Attrition', hue = 'Attrition',data = df, ax=axarr[1][0])\n",
    "sns.boxplot(y='YearsSinceLastPromotion',x = 'Attrition', hue = 'Attrition',data = df, ax=axarr[1][1])\n",
    "sns.boxplot(y='NumCompaniesWorked',x = 'Attrition', hue = 'Attrition',data = df, ax=axarr[2][0])\n",
    "sns.boxplot(y='PercentSalaryHike',x = 'Attrition', hue = 'Attrition',data = df, ax=axarr[2][1])"
   ]
  },
  {
   "cell_type": "code",
   "execution_count": 135,
   "id": "260fdf44",
   "metadata": {},
   "outputs": [
    {
     "data": {
      "text/plain": [
       "<AxesSubplot:xlabel='Attrition', ylabel='JobLevel'>"
      ]
     },
     "execution_count": 135,
     "metadata": {},
     "output_type": "execute_result"
    },
    {
     "data": {
      "image/png": "[encoded data removed]",
      "text/plain": [
       "<Figure size 1440x864 with 6 Axes>"
      ]
     },
     "metadata": {
      "needs_background": "light"
     },
     "output_type": "display_data"
    }
   ],
   "source": [
    "fig, axarr = plt.subplots(3, 2, figsize=(20, 12))\n",
    "sns.boxplot(y='JobInvolvement',x = 'Attrition', hue = 'Attrition',data = df, ax=axarr[0][0])\n",
    "sns.boxplot(y='YearsAtCompany',x = 'Attrition', hue = 'Attrition',data = df , ax=axarr[0][1])\n",
    "sns.boxplot(y='StockOptionLevel',x = 'Attrition', hue = 'Attrition',data = df, ax=axarr[1][0])\n",
    "sns.boxplot(y='TotalWorkingYears',x = 'Attrition', hue = 'Attrition',data = df, ax=axarr[1][1])\n",
    "sns.boxplot(y='JobSatisfaction',x = 'Attrition', hue = 'Attrition',data = df, ax=axarr[2][0])\n",
    "sns.boxplot(y='JobLevel',x = 'Attrition', hue = 'Attrition',data = df, ax=axarr[2][1])"
   ]
  },
  {
   "cell_type": "code",
   "execution_count": 10,
   "id": "0b42d979",
   "metadata": {},
   "outputs": [],
   "source": []
  },
  {
   "cell_type": "code",
   "execution_count": 155,
   "id": "d69aef19",
   "metadata": {},
   "outputs": [],
   "source": [
    "from scipy import stats\n",
    "def chi_test(df1, bi1, bi2):\n",
    "    df_chi = df1\n",
    "    contingency_table=pd.crosstab(df_chi[str(bi1)],df_chi[str(bi2)])\n",
    "    print('contingency_table : \\n',contingency_table)#Observed Values\n",
    "    Observed_Values = contingency_table.values \n",
    "    #print(\"Observed Values :-\\n\",Observed_Values)\n",
    "\n",
    "    b=stats.chi2_contingency(contingency_table)\n",
    "    Expected_Values = b[3]\n",
    "    print(\"Expected Values : \\n\",Expected_Values)\n",
    "\n",
    "    no_of_rows=len(contingency_table.iloc[0:2,0])\n",
    "    no_of_columns=len(contingency_table.iloc[0,0:2])\n",
    "    ddof=(no_of_rows-1)*(no_of_columns-1)\n",
    "    print(\"Degree of Freedom: \",ddof)\n",
    "\n",
    "    alpha = 0.05\n",
    "    from scipy.stats import chi2\n",
    "    chi_square=sum([(o-e)**2./e for o,e in zip(Observed_Values,Expected_Values)])\n",
    "    chi_square_statistic=chi_square[0]+chi_square[1]\n",
    "    print(\"chi-square statistic: \",chi_square_statistic)\n",
    "\n",
    "    critical_value=chi2.ppf(q=1-alpha,df=ddof)\n",
    "    #print('critical_value:',critical_value)#p-value\n",
    "    p_value=1-chi2.cdf(x=chi_square_statistic,df=ddof)\n",
    "    #print('p-value:',p_value)\n",
    "    print('Significance level: ',alpha)\n",
    "    #print('Degree of Freedom: ',ddof)\n",
    "    print('chi-square statistic: ',chi_square_statistic)\n",
    "    print('critical_value: ',critical_value)\n",
    "    print('p-value: ',p_value)\n",
    "    if chi_square_statistic>=critical_value:\n",
    "        print(\"Reject H0\")\n",
    "    else:\n",
    "        print(\"Retain H0\")\n",
    "\n",
    "    if p_value<=alpha:\n",
    "        print(\"Reject H0\")\n",
    "    else:\n",
    "        print(\"Retain H0\")"
   ]
  },
  {
   "cell_type": "markdown",
   "id": "5e49a3a5",
   "metadata": {},
   "source": [
    "### Testovani hypotez"
   ]
  },
  {
   "cell_type": "markdown",
   "id": "381e2463",
   "metadata": {},
   "source": [
    "H_0 : Neni rozdil v Attrition mezi Pohlavim                                                                                     \n",
    "H_1 : Je zde rozdil v Attrition mezi Pohlavim"
   ]
  },
  {
   "cell_type": "code",
   "execution_count": 157,
   "id": "9fc05c35",
   "metadata": {
    "scrolled": true
   },
   "outputs": [
    {
     "name": "stdout",
     "output_type": "stream",
     "text": [
      "contingency_table :-\n",
      " Attrition_Yes    0    1\n",
      "Gender_Female          \n",
      "0              732  150\n",
      "1              501   87\n",
      "Expected Values :-\n",
      " [[739.8 142.2]\n",
      " [493.2  94.8]]\n",
      "Degree of Freedom:- 1\n",
      "chi-square statistic:- 1.2752163602205182\n",
      "Significance level:  0.05\n",
      "chi-square statistic: 1.2752163602205182\n",
      "critical_value: 3.841458820694124\n",
      "p-value: 0.2587903704911595\n",
      "Retain H0\n",
      "Retain H0\n"
     ]
    }
   ],
   "source": [
    "chi_test(df1, 'Gender_Female', 'Attrition_Yes')"
   ]
  },
  {
   "cell_type": "markdown",
   "id": "9826645b",
   "metadata": {},
   "source": [
    "H_0 : Neni rozdil v Attrition mezi Svobodnymi a ostatnimi(Married/Divorced) zamestnanci                                  \n",
    "H_1 : Je zde rozdil v Attrition mezi Svobodnymi a ostatnimi(Married/Divorced) zamestnanci"
   ]
  },
  {
   "cell_type": "code",
   "execution_count": 163,
   "id": "9fb9225e",
   "metadata": {
    "scrolled": true
   },
   "outputs": [
    {
     "name": "stdout",
     "output_type": "stream",
     "text": [
      "contingency_table :-\n",
      " MaritalStatus_Single    0    1\n",
      "Attrition_Yes                 \n",
      "0                     883  350\n",
      "1                     117  120\n",
      "Expected Values :-\n",
      " [[838.7755102 394.2244898]\n",
      " [161.2244898  75.7755102]]\n",
      "Degree of Freedom:- 1\n",
      "chi-square statistic:- 45.23435335701551\n",
      "Significance level:  0.05\n",
      "chi-square statistic: 45.23435335701551\n",
      "critical_value: 3.841458820694124\n",
      "p-value: 1.7481127656537865e-11\n",
      "Reject H0\n",
      "Reject H0\n"
     ]
    }
   ],
   "source": [
    "chi_test(df1, 'Attrition_Yes', 'MaritalStatus_Single')"
   ]
  },
  {
   "cell_type": "markdown",
   "id": "70b7bd31",
   "metadata": {},
   "source": [
    "H_0 : Neni rozdil v Attrition v kategorii spokojenosti s praci.                                                             \n",
    "H_1 : Je zde rozdil v Attrition v kategorii spokojenosti s praci."
   ]
  },
  {
   "cell_type": "code",
   "execution_count": 164,
   "id": "1d531380",
   "metadata": {},
   "outputs": [
    {
     "name": "stdout",
     "output_type": "stream",
     "text": [
      "contingency_table :-\n",
      " JobSatisfaction    1    2    3    4\n",
      "Attrition_Yes                      \n",
      "0                223  234  369  407\n",
      "1                 66   46   73   52\n",
      "Expected Values :-\n",
      " [[242.40612245 234.85714286 370.73877551 384.99795918]\n",
      " [ 46.59387755  45.14285714  71.26122449  74.00204082]]\n",
      "Degree of Freedom:- 1\n",
      "chi-square statistic:- 9.655539523938783\n",
      "Significance level:  0.05\n",
      "chi-square statistic: 9.655539523938783\n",
      "critical_value: 3.841458820694124\n",
      "p-value: 0.0018878144066051261\n",
      "Reject H0\n",
      "Reject H0\n"
     ]
    }
   ],
   "source": [
    "chi_test(df1, 'Attrition_Yes', 'JobSatisfaction')"
   ]
  },
  {
   "cell_type": "markdown",
   "id": "153491b5",
   "metadata": {},
   "source": [
    "Tvorba testovacich a trenovacich datasetu"
   ]
  },
  {
   "cell_type": "code",
   "execution_count": 31,
   "id": "9b04ac59",
   "metadata": {},
   "outputs": [],
   "source": [
    "X = df1.drop(['Attrition_Yes','Attrition_No'], axis=1)\n",
    "y = df1.Attrition_Yes\n",
    "\n",
    "\n",
    "X_train, X_test, y_train, y_test = train_test_split(X, y, test_size=0.3)"
   ]
  },
  {
   "cell_type": "code",
   "execution_count": 13,
   "id": "69f80657",
   "metadata": {},
   "outputs": [
    {
     "name": "stdout",
     "output_type": "stream",
     "text": [
      "Department_Sales                     0.080855\n",
      "JobRole_Manufacturing Director       0.082994\n",
      "JobRole_Manager                      0.083316\n",
      "Department_Research & Development    0.085293\n",
      "MaritalStatus_Divorced               0.087716\n",
      "EnvironmentSatisfaction              0.088377\n",
      "JobRole_Research Director            0.088870\n",
      "MaritalStatus_Married                0.090984\n",
      "JobSatisfaction                      0.094305\n",
      "JobRole_Laboratory Technician        0.098290\n",
      "JobInvolvement                       0.113526\n",
      "BusinessTravel_Travel_Frequently     0.115143\n",
      "Age                                  0.142012\n",
      "YearsWithCurrManager                 0.152006\n",
      "YearsInCurrentRole                   0.156711\n",
      "JobRole_Sales Representative         0.157234\n",
      "YearsAtCompany                       0.161006\n",
      "MonthlyIncome                        0.161980\n",
      "StockOptionLevel                     0.162844\n",
      "TotalWorkingYears                    0.166781\n",
      "MaritalStatus_Single                 0.175419\n",
      "JobLevel                             0.175770\n",
      "OverTime_Yes                         0.246118\n",
      "Attrition_Yes                        1.000000\n",
      "Name: Attrition_Yes, dtype: float64\n",
      "['Age' 'EnvironmentSatisfaction' 'JobInvolvement' 'JobLevel'\n",
      " 'JobSatisfaction' 'MonthlyIncome' 'StockOptionLevel' 'TotalWorkingYears'\n",
      " 'YearsAtCompany' 'YearsInCurrentRole' 'YearsWithCurrManager'\n",
      " 'MaritalStatus_Married' 'MaritalStatus_Divorced'\n",
      " 'JobRole_Manufacturing Director' 'JobRole_Manager'\n",
      " 'JobRole_Research Director' 'Department_Research & Development'\n",
      " 'Attrition_Yes' 'MaritalStatus_Single' 'JobRole_Laboratory Technician'\n",
      " 'JobRole_Sales Representative' 'Department_Sales'\n",
      " 'BusinessTravel_Travel_Frequently' 'OverTime_Yes']\n"
     ]
    }
   ],
   "source": [
    "SPcorrMatrix = df1.corr(method= 'spearman')\n",
    "PEcorrMatrix = df1.corr(method= 'pearson')\n",
    "KEcorrMatrix = df1.corr(method= 'kendall')\n",
    "\n",
    "def corr_matrix(corrMatrix):\n",
    "    fig, ax = plt.subplots(figsize=(15, 15))                   # Sample figsize in inches\n",
    "\n",
    "    cmap = sns.diverging_palette( 220 , 10 , as_cmap = True )  # color map\n",
    "    sns.heatmap(data      = corrMatrix, \n",
    "            cmap      = cmap, \n",
    "            square    = True, \n",
    "            cbar_kws  = {'shrink': .3}, \n",
    "            annot     = False, \n",
    "            annot_kws = {'fontsize': 12},\n",
    "            ax        = ax\n",
    "           )\n",
    "    return\n",
    "    \n",
    "def corr_over_K(corrMatrix, K):\n",
    "    #K = 0.08\n",
    "    corr = corrMatrix[(-K >= corrMatrix.Attrition_Yes)]\n",
    "    corr = corr.append(corrMatrix[(K <= corrMatrix.Attrition_Yes)])\n",
    "    corr = corr.drop(['OverTime_No', 'Attrition_No'])\n",
    "    crK = abs(corr.Attrition_Yes)\n",
    "    print(crK.sort_values())\n",
    "    print(corr.index.values)\n",
    "    return \n",
    "\n",
    "\n",
    "corr_over_K(KEcorrMatrix, 0.08)"
   ]
  },
  {
   "cell_type": "code",
   "execution_count": 64,
   "id": "ad8afe3e",
   "metadata": {},
   "outputs": [
    {
     "data": {
      "text/html": [
       "<div>\n",
       "<style scoped>\n",
       "    .dataframe tbody tr th:only-of-type {\n",
       "        vertical-align: middle;\n",
       "    }\n",
       "\n",
       "    .dataframe tbody tr th {\n",
       "        vertical-align: top;\n",
       "    }\n",
       "\n",
       "    .dataframe thead th {\n",
       "        text-align: right;\n",
       "    }\n",
       "</style>\n",
       "<table border=\"1\" class=\"dataframe\">\n",
       "  <thead>\n",
       "    <tr style=\"text-align: right;\">\n",
       "      <th></th>\n",
       "      <th>Age</th>\n",
       "      <th>EnvironmentSatisfaction</th>\n",
       "      <th>JobInvolvement</th>\n",
       "      <th>JobLevel</th>\n",
       "      <th>JobSatisfaction</th>\n",
       "      <th>MonthlyIncome</th>\n",
       "      <th>StockOptionLevel</th>\n",
       "      <th>TotalWorkingYears</th>\n",
       "      <th>YearsAtCompany</th>\n",
       "      <th>YearsInCurrentRole</th>\n",
       "      <th>YearsWithCurrManager</th>\n",
       "      <th>Attrition_No</th>\n",
       "      <th>MaritalStatus_Married</th>\n",
       "      <th>MaritalStatus_Divorced</th>\n",
       "      <th>JobRole_Manufacturing Director</th>\n",
       "      <th>JobRole_Manager</th>\n",
       "      <th>JobRole_Research Director</th>\n",
       "      <th>Department_Research &amp; Development</th>\n",
       "      <th>Attrition_Yes</th>\n",
       "      <th>MaritalStatus_Single</th>\n",
       "      <th>JobRole_Laboratory Technician</th>\n",
       "      <th>JobRole_Sales Representative</th>\n",
       "      <th>Department_Sales</th>\n",
       "      <th>BusinessTravel_Travel_Frequently</th>\n",
       "      <th>OverTime_Yes</th>\n",
       "    </tr>\n",
       "  </thead>\n",
       "  <tbody>\n",
       "    <tr>\n",
       "      <th>0</th>\n",
       "      <td>41</td>\n",
       "      <td>2</td>\n",
       "      <td>3</td>\n",
       "      <td>2</td>\n",
       "      <td>4</td>\n",
       "      <td>5993</td>\n",
       "      <td>0</td>\n",
       "      <td>8</td>\n",
       "      <td>6</td>\n",
       "      <td>4</td>\n",
       "      <td>5</td>\n",
       "      <td>0</td>\n",
       "      <td>0</td>\n",
       "      <td>0</td>\n",
       "      <td>0</td>\n",
       "      <td>0</td>\n",
       "      <td>0</td>\n",
       "      <td>0</td>\n",
       "      <td>1</td>\n",
       "      <td>1</td>\n",
       "      <td>0</td>\n",
       "      <td>0</td>\n",
       "      <td>1</td>\n",
       "      <td>0</td>\n",
       "      <td>1</td>\n",
       "    </tr>\n",
       "    <tr>\n",
       "      <th>1</th>\n",
       "      <td>49</td>\n",
       "      <td>3</td>\n",
       "      <td>2</td>\n",
       "      <td>2</td>\n",
       "      <td>2</td>\n",
       "      <td>5130</td>\n",
       "      <td>1</td>\n",
       "      <td>10</td>\n",
       "      <td>10</td>\n",
       "      <td>7</td>\n",
       "      <td>7</td>\n",
       "      <td>1</td>\n",
       "      <td>1</td>\n",
       "      <td>0</td>\n",
       "      <td>0</td>\n",
       "      <td>0</td>\n",
       "      <td>0</td>\n",
       "      <td>1</td>\n",
       "      <td>0</td>\n",
       "      <td>0</td>\n",
       "      <td>0</td>\n",
       "      <td>0</td>\n",
       "      <td>0</td>\n",
       "      <td>1</td>\n",
       "      <td>0</td>\n",
       "    </tr>\n",
       "    <tr>\n",
       "      <th>2</th>\n",
       "      <td>37</td>\n",
       "      <td>4</td>\n",
       "      <td>2</td>\n",
       "      <td>1</td>\n",
       "      <td>3</td>\n",
       "      <td>2090</td>\n",
       "      <td>0</td>\n",
       "      <td>7</td>\n",
       "      <td>0</td>\n",
       "      <td>0</td>\n",
       "      <td>0</td>\n",
       "      <td>0</td>\n",
       "      <td>0</td>\n",
       "      <td>0</td>\n",
       "      <td>0</td>\n",
       "      <td>0</td>\n",
       "      <td>0</td>\n",
       "      <td>1</td>\n",
       "      <td>1</td>\n",
       "      <td>1</td>\n",
       "      <td>1</td>\n",
       "      <td>0</td>\n",
       "      <td>0</td>\n",
       "      <td>0</td>\n",
       "      <td>1</td>\n",
       "    </tr>\n",
       "    <tr>\n",
       "      <th>3</th>\n",
       "      <td>33</td>\n",
       "      <td>4</td>\n",
       "      <td>3</td>\n",
       "      <td>1</td>\n",
       "      <td>3</td>\n",
       "      <td>2909</td>\n",
       "      <td>0</td>\n",
       "      <td>8</td>\n",
       "      <td>8</td>\n",
       "      <td>7</td>\n",
       "      <td>0</td>\n",
       "      <td>1</td>\n",
       "      <td>1</td>\n",
       "      <td>0</td>\n",
       "      <td>0</td>\n",
       "      <td>0</td>\n",
       "      <td>0</td>\n",
       "      <td>1</td>\n",
       "      <td>0</td>\n",
       "      <td>0</td>\n",
       "      <td>0</td>\n",
       "      <td>0</td>\n",
       "      <td>0</td>\n",
       "      <td>1</td>\n",
       "      <td>1</td>\n",
       "    </tr>\n",
       "    <tr>\n",
       "      <th>4</th>\n",
       "      <td>27</td>\n",
       "      <td>1</td>\n",
       "      <td>3</td>\n",
       "      <td>1</td>\n",
       "      <td>2</td>\n",
       "      <td>3468</td>\n",
       "      <td>1</td>\n",
       "      <td>6</td>\n",
       "      <td>2</td>\n",
       "      <td>2</td>\n",
       "      <td>2</td>\n",
       "      <td>1</td>\n",
       "      <td>1</td>\n",
       "      <td>0</td>\n",
       "      <td>0</td>\n",
       "      <td>0</td>\n",
       "      <td>0</td>\n",
       "      <td>1</td>\n",
       "      <td>0</td>\n",
       "      <td>0</td>\n",
       "      <td>1</td>\n",
       "      <td>0</td>\n",
       "      <td>0</td>\n",
       "      <td>0</td>\n",
       "      <td>0</td>\n",
       "    </tr>\n",
       "  </tbody>\n",
       "</table>\n",
       "</div>"
      ],
      "text/plain": [
       "   Age  EnvironmentSatisfaction  JobInvolvement  JobLevel  JobSatisfaction  \\\n",
       "0   41                        2               3         2                4   \n",
       "1   49                        3               2         2                2   \n",
       "2   37                        4               2         1                3   \n",
       "3   33                        4               3         1                3   \n",
       "4   27                        1               3         1                2   \n",
       "\n",
       "   MonthlyIncome  StockOptionLevel  TotalWorkingYears  YearsAtCompany  \\\n",
       "0           5993                 0                  8               6   \n",
       "1           5130                 1                 10              10   \n",
       "2           2090                 0                  7               0   \n",
       "3           2909                 0                  8               8   \n",
       "4           3468                 1                  6               2   \n",
       "\n",
       "   YearsInCurrentRole  YearsWithCurrManager  Attrition_No  \\\n",
       "0                   4                     5             0   \n",
       "1                   7                     7             1   \n",
       "2                   0                     0             0   \n",
       "3                   7                     0             1   \n",
       "4                   2                     2             1   \n",
       "\n",
       "   MaritalStatus_Married  MaritalStatus_Divorced  \\\n",
       "0                      0                       0   \n",
       "1                      1                       0   \n",
       "2                      0                       0   \n",
       "3                      1                       0   \n",
       "4                      1                       0   \n",
       "\n",
       "   JobRole_Manufacturing Director  JobRole_Manager  JobRole_Research Director  \\\n",
       "0                               0                0                          0   \n",
       "1                               0                0                          0   \n",
       "2                               0                0                          0   \n",
       "3                               0                0                          0   \n",
       "4                               0                0                          0   \n",
       "\n",
       "   Department_Research & Development  Attrition_Yes  MaritalStatus_Single  \\\n",
       "0                                  0              1                     1   \n",
       "1                                  1              0                     0   \n",
       "2                                  1              1                     1   \n",
       "3                                  1              0                     0   \n",
       "4                                  1              0                     0   \n",
       "\n",
       "   JobRole_Laboratory Technician  JobRole_Sales Representative  \\\n",
       "0                              0                             0   \n",
       "1                              0                             0   \n",
       "2                              1                             0   \n",
       "3                              0                             0   \n",
       "4                              1                             0   \n",
       "\n",
       "   Department_Sales  BusinessTravel_Travel_Frequently  OverTime_Yes  \n",
       "0                 1                                 0             1  \n",
       "1                 0                                 1             0  \n",
       "2                 0                                 0             1  \n",
       "3                 0                                 1             1  \n",
       "4                 0                                 0             0  "
      ]
     },
     "execution_count": 64,
     "metadata": {},
     "output_type": "execute_result"
    }
   ],
   "source": [
    "df1_cor = df1[['Age', 'EnvironmentSatisfaction', 'JobInvolvement', 'JobLevel', 'JobSatisfaction', \n",
    "               'MonthlyIncome', 'StockOptionLevel', 'TotalWorkingYears', 'YearsAtCompany', \n",
    "               'YearsInCurrentRole', 'YearsWithCurrManager', 'Attrition_No', 'MaritalStatus_Married', \n",
    "               'MaritalStatus_Divorced', 'JobRole_Manufacturing Director', 'JobRole_Manager', \n",
    "               'JobRole_Research Director', 'Department_Research & Development', \n",
    "               'Attrition_Yes', 'MaritalStatus_Single', 'JobRole_Laboratory Technician', \n",
    "               'JobRole_Sales Representative', 'Department_Sales', 'BusinessTravel_Travel_Frequently', 'OverTime_Yes']]\n",
    "df1_cor.head(5)"
   ]
  },
  {
   "cell_type": "markdown",
   "id": "86565f47",
   "metadata": {},
   "source": [
    "Porovnam redukci dimenzi celeho datasetu vs. pouze vybranych parametru z predchozi korelace."
   ]
  },
  {
   "cell_type": "code",
   "execution_count": 32,
   "id": "40dfb44d",
   "metadata": {},
   "outputs": [],
   "source": [
    "X = df1.drop(['Attrition_Yes','Attrition_No'], axis=1)\n",
    "y = df1.Attrition_Yes\n",
    "\n",
    "X_cor = df1_cor.drop(['Attrition_Yes','Attrition_No'], axis=1)\n",
    "y_cor = df1_cor.Attrition_Yes\n",
    "\n",
    "X_train, X_test, y_train, y_test = train_test_split(X, y, test_size=0.3)\n",
    "X_cor_train, X_cor_test, y_cor_train, y_cor_test = train_test_split(X_cor, y_cor, test_size=0.3)"
   ]
  },
  {
   "cell_type": "code",
   "execution_count": 16,
   "id": "b25435af",
   "metadata": {},
   "outputs": [],
   "source": [
    "reg = linear_model.LinearRegression()"
   ]
  },
  {
   "cell_type": "markdown",
   "id": "272e369f",
   "metadata": {},
   "source": [
    "Linearni regrese porovnani datasetu celeho..."
   ]
  },
  {
   "cell_type": "code",
   "execution_count": 17,
   "id": "108a70cd",
   "metadata": {},
   "outputs": [
    {
     "data": {
      "text/plain": [
       "0.22144218895589796"
      ]
     },
     "execution_count": 17,
     "metadata": {},
     "output_type": "execute_result"
    }
   ],
   "source": [
    "reg.fit(X_train,y_train)\n",
    "reg.score(X_test,y_test)"
   ]
  },
  {
   "cell_type": "markdown",
   "id": "0f26372a",
   "metadata": {},
   "source": [
    "... vs. datasetu pro korelovane hodnoty s Attrition"
   ]
  },
  {
   "cell_type": "code",
   "execution_count": 18,
   "id": "6432eaec",
   "metadata": {},
   "outputs": [
    {
     "data": {
      "text/plain": [
       "0.17334207289536452"
      ]
     },
     "execution_count": 18,
     "metadata": {},
     "output_type": "execute_result"
    }
   ],
   "source": [
    "reg.fit(X_cor_train,y_cor_train)\n",
    "reg.score(X_cor_test,y_cor_test)"
   ]
  },
  {
   "cell_type": "markdown",
   "id": "7117cfbe",
   "metadata": {},
   "source": [
    "Provedeni PCA redukce dimenzi, pro kompletni dataset, pocet dimenzi 30 rsp. 15 byl stanoven experimentalne z presnosti linearni regrese"
   ]
  },
  {
   "cell_type": "code",
   "execution_count": 19,
   "id": "0704f7bd",
   "metadata": {},
   "outputs": [],
   "source": [
    "pca = PCA(n_components=30, whiten='True')\n",
    "x_dr = pca.fit(X).transform(X)"
   ]
  },
  {
   "cell_type": "code",
   "execution_count": 20,
   "id": "cd84435c",
   "metadata": {},
   "outputs": [],
   "source": [
    "pca = PCA(n_components=15, whiten='True')\n",
    "x_cor_dr = pca.fit(X_cor).transform(X_cor)"
   ]
  },
  {
   "cell_type": "markdown",
   "id": "07a40d44",
   "metadata": {},
   "source": [
    "Linearni regrese po redukci dimenzi na 30 z datasetu, upraveneho na binarni hodnoty."
   ]
  },
  {
   "cell_type": "code",
   "execution_count": 21,
   "id": "5b9389ee",
   "metadata": {},
   "outputs": [
    {
     "data": {
      "text/plain": [
       "0.21398396098043748"
      ]
     },
     "execution_count": 21,
     "metadata": {},
     "output_type": "execute_result"
    }
   ],
   "source": [
    "reg = linear_model.LinearRegression()\n",
    "X_dr_train, X_dr_test, y_dr_train, y_dr_test = train_test_split(x_dr,y,test_size=0.2, random_state=4)\n",
    "reg.fit(X_dr_train,y_dr_train)\n",
    "\n",
    "\n",
    "reg.score(X_dr_test,y_dr_test)"
   ]
  },
  {
   "cell_type": "markdown",
   "id": "8c27aa12",
   "metadata": {},
   "source": [
    "Muzeme sledovat, ze pomoci PCA  jsme redukovali dimenze na 30. Linearni regrese se tim mirne zlepsila. "
   ]
  },
  {
   "cell_type": "markdown",
   "id": "fb00e50b",
   "metadata": {},
   "source": [
    "Linearni regrese po redukci dimenzi na z 23 na 15 u datasetu redukovaneho korelaci"
   ]
  },
  {
   "cell_type": "code",
   "execution_count": 22,
   "id": "36d6f166",
   "metadata": {},
   "outputs": [
    {
     "data": {
      "text/plain": [
       "0.20536104203257777"
      ]
     },
     "execution_count": 22,
     "metadata": {},
     "output_type": "execute_result"
    }
   ],
   "source": [
    "reg = linear_model.LinearRegression()\n",
    "X_cor_dr_train, X_cor_dr_test, y_cor_dr_train, y_cor_dr_test = train_test_split(x_cor_dr,y_cor,test_size=0.2, random_state=4)\n",
    "reg.fit(X_cor_dr_train,y_cor_dr_train)\n",
    "\n",
    "\n",
    "reg.score(X_cor_dr_test,y_cor_dr_test)"
   ]
  },
  {
   "cell_type": "markdown",
   "id": "29bc9572",
   "metadata": {},
   "source": [
    "Pokud jsme redukaovali dimenze, zlepsili jsme aproximaci modelu na dataset z 15% na 20%."
   ]
  },
  {
   "cell_type": "code",
   "execution_count": 89,
   "id": "c9ba85f8",
   "metadata": {},
   "outputs": [],
   "source": [
    "def RF_plot(RF,X_cor):\n",
    "    trace = go.Scatter(\n",
    "        y = RF.feature_importances_,\n",
    "        x = X_cor.columns.values,\n",
    "        mode='markers',\n",
    "        marker=dict(\n",
    "            sizemode = 'diameter',\n",
    "            sizeref = 1,\n",
    "            size = 13,\n",
    "            #size= rf.feature_importances_,\n",
    "            #color = np.random.randn(500), #set color equal to a variable\n",
    "            color = RF.feature_importances_,\n",
    "            colorscale='Portland',\n",
    "            showscale=True\n",
    "        ),\n",
    "        text = X_cor.columns.values\n",
    "    )\n",
    "    data = [trace]\n",
    "\n",
    "    layout= go.Layout(\n",
    "        autosize= True,\n",
    "        title= 'Random Forest Feature Importance',\n",
    "        hovermode= 'closest',\n",
    "         xaxis= dict(\n",
    "             ticklen= 5,\n",
    "             showgrid=False,\n",
    "            zeroline=False,\n",
    "            showline=False\n",
    "         ),\n",
    "        yaxis=dict(\n",
    "            title= 'Feature Importance',\n",
    "            showgrid=False,\n",
    "            zeroline=False,\n",
    "            ticklen= 5,\n",
    "            gridwidth= 2\n",
    "        ),\n",
    "        showlegend= False\n",
    "    )\n",
    "    fig = go.Figure(data=data, layout=layout)\n",
    "    py.iplot(fig,filename='scatter2010')"
   ]
  },
  {
   "cell_type": "markdown",
   "id": "47bc479a",
   "metadata": {},
   "source": [
    "### Random forest clasifikace. Dataset cely."
   ]
  },
  {
   "cell_type": "code",
   "execution_count": 93,
   "id": "6a3b2291",
   "metadata": {},
   "outputs": [
    {
     "data": {
      "application/vnd.plotly.v1+json": {
       "config": {
        "linkText": "Export to plot.ly",
        "plotlyServerURL": "https://plot.ly",
        "showLink": false
       },
       "data": [
        {
         "marker": {
          "color": [
           0.06206946005119158,
           0.046981023046095756,
           0.046373656042109294,
           0.017784527406745895,
           0.026878876790197282,
           0.039900575701641294,
           0.02675789590934677,
           0.017424191475707975,
           0.02794030545221755,
           0.0646594929513493,
           0.0502471545522506,
           0.030142083782336654,
           0.030289086304487647,
           0.005223278528967365,
           0.023958300065859136,
           0.02640226910472461,
           0.04978158249746083,
           0.0230806477294737,
           0.020509574302867702,
           0.051663094714706946,
           0.02938625322659232,
           0.018079389877763797,
           0.032107679724024306,
           0.014809235393352025,
           0.007440134629498489,
           0.006378693631323309,
           0.00920280188565154,
           0.007451039746533745,
           0.00789170759273288,
           0.003810173955979557,
           0.002551839326666474,
           0.0010613201826831728,
           0.007804234486938824,
           0.0008035155062864292,
           0.0016343366300582934,
           0.008093699929589464,
           0.008259366094158244,
           0.006030204853296983,
           0.00296760339965331,
           0.007387560006901011,
           0.008144431593323684,
           0.00801159672456419,
           0.0024753738983030534,
           0.008979342952359786,
           0.010732621165164397,
           0.0021044738312641894,
           0.00796463516636914,
           0.008441215776332875,
           0.004468165826135097,
           0.035948665723780526,
           0.031511610852981
          ],
          "colorscale": [
           [
            0,
            "rgb(12,51,131)"
           ],
           [
            0.25,
            "rgb(10,136,186)"
           ],
           [
            0.5,
            "rgb(242,211,56)"
           ],
           [
            0.75,
            "rgb(242,143,56)"
           ],
           [
            1,
            "rgb(217,30,30)"
           ]
          ],
          "showscale": true,
          "size": 13,
          "sizemode": "diameter",
          "sizeref": 1
         },
         "mode": "markers",
         "text": [
          "Age",
          "DailyRate",
          "DistanceFromHome",
          "Education",
          "EnvironmentSatisfaction",
          "HourlyRate",
          "JobInvolvement",
          "JobLevel",
          "JobSatisfaction",
          "MonthlyIncome",
          "MonthlyRate",
          "NumCompaniesWorked",
          "PercentSalaryHike",
          "PerformanceRating",
          "RelationshipSatisfaction",
          "StockOptionLevel",
          "TotalWorkingYears",
          "TrainingTimesLastYear",
          "WorkLifeBalance",
          "YearsAtCompany",
          "YearsInCurrentRole",
          "YearsSinceLastPromotion",
          "YearsWithCurrManager",
          "MaritalStatus_Single",
          "MaritalStatus_Married",
          "MaritalStatus_Divorced",
          "JobRole_Sales Executive",
          "JobRole_Research Scientist",
          "JobRole_Laboratory Technician",
          "JobRole_Manufacturing Director",
          "JobRole_Healthcare Representative",
          "JobRole_Manager",
          "JobRole_Sales Representative",
          "JobRole_Research Director",
          "JobRole_Human Resources",
          "Gender_Female",
          "Gender_Male",
          "EducationField_Life Sciences",
          "EducationField_Other",
          "EducationField_Medical",
          "EducationField_Marketing",
          "EducationField_Technical Degree",
          "EducationField_Human Resources",
          "Department_Sales",
          "Department_Research & Development",
          "Department_Human Resources",
          "BusinessTravel_Travel_Rarely",
          "BusinessTravel_Travel_Frequently",
          "BusinessTravel_Non-Travel",
          "OverTime_Yes",
          "OverTime_No"
         ],
         "type": "scatter",
         "x": [
          "Age",
          "DailyRate",
          "DistanceFromHome",
          "Education",
          "EnvironmentSatisfaction",
          "HourlyRate",
          "JobInvolvement",
          "JobLevel",
          "JobSatisfaction",
          "MonthlyIncome",
          "MonthlyRate",
          "NumCompaniesWorked",
          "PercentSalaryHike",
          "PerformanceRating",
          "RelationshipSatisfaction",
          "StockOptionLevel",
          "TotalWorkingYears",
          "TrainingTimesLastYear",
          "WorkLifeBalance",
          "YearsAtCompany",
          "YearsInCurrentRole",
          "YearsSinceLastPromotion",
          "YearsWithCurrManager",
          "MaritalStatus_Single",
          "MaritalStatus_Married",
          "MaritalStatus_Divorced",
          "JobRole_Sales Executive",
          "JobRole_Research Scientist",
          "JobRole_Laboratory Technician",
          "JobRole_Manufacturing Director",
          "JobRole_Healthcare Representative",
          "JobRole_Manager",
          "JobRole_Sales Representative",
          "JobRole_Research Director",
          "JobRole_Human Resources",
          "Gender_Female",
          "Gender_Male",
          "EducationField_Life Sciences",
          "EducationField_Other",
          "EducationField_Medical",
          "EducationField_Marketing",
          "EducationField_Technical Degree",
          "EducationField_Human Resources",
          "Department_Sales",
          "Department_Research & Development",
          "Department_Human Resources",
          "BusinessTravel_Travel_Rarely",
          "BusinessTravel_Travel_Frequently",
          "BusinessTravel_Non-Travel",
          "OverTime_Yes",
          "OverTime_No"
         ],
         "y": [
          0.06206946005119158,
          0.046981023046095756,
          0.046373656042109294,
          0.017784527406745895,
          0.026878876790197282,
          0.039900575701641294,
          0.02675789590934677,
          0.017424191475707975,
          0.02794030545221755,
          0.0646594929513493,
          0.0502471545522506,
          0.030142083782336654,
          0.030289086304487647,
          0.005223278528967365,
          0.023958300065859136,
          0.02640226910472461,
          0.04978158249746083,
          0.0230806477294737,
          0.020509574302867702,
          0.051663094714706946,
          0.02938625322659232,
          0.018079389877763797,
          0.032107679724024306,
          0.014809235393352025,
          0.007440134629498489,
          0.006378693631323309,
          0.00920280188565154,
          0.007451039746533745,
          0.00789170759273288,
          0.003810173955979557,
          0.002551839326666474,
          0.0010613201826831728,
          0.007804234486938824,
          0.0008035155062864292,
          0.0016343366300582934,
          0.008093699929589464,
          0.008259366094158244,
          0.006030204853296983,
          0.00296760339965331,
          0.007387560006901011,
          0.008144431593323684,
          0.00801159672456419,
          0.0024753738983030534,
          0.008979342952359786,
          0.010732621165164397,
          0.0021044738312641894,
          0.00796463516636914,
          0.008441215776332875,
          0.004468165826135097,
          0.035948665723780526,
          0.031511610852981
         ]
        }
       ],
       "layout": {
        "autosize": true,
        "hovermode": "closest",
        "showlegend": false,
        "template": {
         "data": {
          "bar": [
           {
            "error_x": {
             "color": "#2a3f5f"
            },
            "error_y": {
             "color": "#2a3f5f"
            },
            "marker": {
             "line": {
              "color": "#E5ECF6",
              "width": 0.5
             },
             "pattern": {
              "fillmode": "overlay",
              "size": 10,
              "solidity": 0.2
             }
            },
            "type": "bar"
           }
          ],
          "barpolar": [
           {
            "marker": {
             "line": {
              "color": "#E5ECF6",
              "width": 0.5
             },
             "pattern": {
              "fillmode": "overlay",
              "size": 10,
              "solidity": 0.2
             }
            },
            "type": "barpolar"
           }
          ],
          "carpet": [
           {
            "aaxis": {
             "endlinecolor": "#2a3f5f",
             "gridcolor": "white",
             "linecolor": "white",
             "minorgridcolor": "white",
             "startlinecolor": "#2a3f5f"
            },
            "baxis": {
             "endlinecolor": "#2a3f5f",
             "gridcolor": "white",
             "linecolor": "white",
             "minorgridcolor": "white",
             "startlinecolor": "#2a3f5f"
            },
            "type": "carpet"
           }
          ],
          "choropleth": [
           {
            "colorbar": {
             "outlinewidth": 0,
             "ticks": ""
            },
            "type": "choropleth"
           }
          ],
          "contour": [
           {
            "colorbar": {
             "outlinewidth": 0,
             "ticks": ""
            },
            "colorscale": [
             [
              0,
              "#0d0887"
             ],
             [
              0.1111111111111111,
              "#46039f"
             ],
             [
              0.2222222222222222,
              "#7201a8"
             ],
             [
              0.3333333333333333,
              "#9c179e"
             ],
             [
              0.4444444444444444,
              "#bd3786"
             ],
             [
              0.5555555555555556,
              "#d8576b"
             ],
             [
              0.6666666666666666,
              "#ed7953"
             ],
             [
              0.7777777777777778,
              "#fb9f3a"
             ],
             [
              0.8888888888888888,
              "#fdca26"
             ],
             [
              1,
              "#f0f921"
             ]
            ],
            "type": "contour"
           }
          ],
          "contourcarpet": [
           {
            "colorbar": {
             "outlinewidth": 0,
             "ticks": ""
            },
            "type": "contourcarpet"
           }
          ],
          "heatmap": [
           {
            "colorbar": {
             "outlinewidth": 0,
             "ticks": ""
            },
            "colorscale": [
             [
              0,
              "#0d0887"
             ],
             [
              0.1111111111111111,
              "#46039f"
             ],
             [
              0.2222222222222222,
              "#7201a8"
             ],
             [
              0.3333333333333333,
              "#9c179e"
             ],
             [
              0.4444444444444444,
              "#bd3786"
             ],
             [
              0.5555555555555556,
              "#d8576b"
             ],
             [
              0.6666666666666666,
              "#ed7953"
             ],
             [
              0.7777777777777778,
              "#fb9f3a"
             ],
             [
              0.8888888888888888,
              "#fdca26"
             ],
             [
              1,
              "#f0f921"
             ]
            ],
            "type": "heatmap"
           }
          ],
          "heatmapgl": [
           {
            "colorbar": {
             "outlinewidth": 0,
             "ticks": ""
            },
            "colorscale": [
             [
              0,
              "#0d0887"
             ],
             [
              0.1111111111111111,
              "#46039f"
             ],
             [
              0.2222222222222222,
              "#7201a8"
             ],
             [
              0.3333333333333333,
              "#9c179e"
             ],
             [
              0.4444444444444444,
              "#bd3786"
             ],
             [
              0.5555555555555556,
              "#d8576b"
             ],
             [
              0.6666666666666666,
              "#ed7953"
             ],
             [
              0.7777777777777778,
              "#fb9f3a"
             ],
             [
              0.8888888888888888,
              "#fdca26"
             ],
             [
              1,
              "#f0f921"
             ]
            ],
            "type": "heatmapgl"
           }
          ],
          "histogram": [
           {
            "marker": {
             "pattern": {
              "fillmode": "overlay",
              "size": 10,
              "solidity": 0.2
             }
            },
            "type": "histogram"
           }
          ],
          "histogram2d": [
           {
            "colorbar": {
             "outlinewidth": 0,
             "ticks": ""
            },
            "colorscale": [
             [
              0,
              "#0d0887"
             ],
             [
              0.1111111111111111,
              "#46039f"
             ],
             [
              0.2222222222222222,
              "#7201a8"
             ],
             [
              0.3333333333333333,
              "#9c179e"
             ],
             [
              0.4444444444444444,
              "#bd3786"
             ],
             [
              0.5555555555555556,
              "#d8576b"
             ],
             [
              0.6666666666666666,
              "#ed7953"
             ],
             [
              0.7777777777777778,
              "#fb9f3a"
             ],
             [
              0.8888888888888888,
              "#fdca26"
             ],
             [
              1,
              "#f0f921"
             ]
            ],
            "type": "histogram2d"
           }
          ],
          "histogram2dcontour": [
           {
            "colorbar": {
             "outlinewidth": 0,
             "ticks": ""
            },
            "colorscale": [
             [
              0,
              "#0d0887"
             ],
             [
              0.1111111111111111,
              "#46039f"
             ],
             [
              0.2222222222222222,
              "#7201a8"
             ],
             [
              0.3333333333333333,
              "#9c179e"
             ],
             [
              0.4444444444444444,
              "#bd3786"
             ],
             [
              0.5555555555555556,
              "#d8576b"
             ],
             [
              0.6666666666666666,
              "#ed7953"
             ],
             [
              0.7777777777777778,
              "#fb9f3a"
             ],
             [
              0.8888888888888888,
              "#fdca26"
             ],
             [
              1,
              "#f0f921"
             ]
            ],
            "type": "histogram2dcontour"
           }
          ],
          "mesh3d": [
           {
            "colorbar": {
             "outlinewidth": 0,
             "ticks": ""
            },
            "type": "mesh3d"
           }
          ],
          "parcoords": [
           {
            "line": {
             "colorbar": {
              "outlinewidth": 0,
              "ticks": ""
             }
            },
            "type": "parcoords"
           }
          ],
          "pie": [
           {
            "automargin": true,
            "type": "pie"
           }
          ],
          "scatter": [
           {
            "marker": {
             "colorbar": {
              "outlinewidth": 0,
              "ticks": ""
             }
            },
            "type": "scatter"
           }
          ],
          "scatter3d": [
           {
            "line": {
             "colorbar": {
              "outlinewidth": 0,
              "ticks": ""
             }
            },
            "marker": {
             "colorbar": {
              "outlinewidth": 0,
              "ticks": ""
             }
            },
            "type": "scatter3d"
           }
          ],
          "scattercarpet": [
           {
            "marker": {
             "colorbar": {
              "outlinewidth": 0,
              "ticks": ""
             }
            },
            "type": "scattercarpet"
           }
          ],
          "scattergeo": [
           {
            "marker": {
             "colorbar": {
              "outlinewidth": 0,
              "ticks": ""
             }
            },
            "type": "scattergeo"
           }
          ],
          "scattergl": [
           {
            "marker": {
             "colorbar": {
              "outlinewidth": 0,
              "ticks": ""
             }
            },
            "type": "scattergl"
           }
          ],
          "scattermapbox": [
           {
            "marker": {
             "colorbar": {
              "outlinewidth": 0,
              "ticks": ""
             }
            },
            "type": "scattermapbox"
           }
          ],
          "scatterpolar": [
           {
            "marker": {
             "colorbar": {
              "outlinewidth": 0,
              "ticks": ""
             }
            },
            "type": "scatterpolar"
           }
          ],
          "scatterpolargl": [
           {
            "marker": {
             "colorbar": {
              "outlinewidth": 0,
              "ticks": ""
             }
            },
            "type": "scatterpolargl"
           }
          ],
          "scatterternary": [
           {
            "marker": {
             "colorbar": {
              "outlinewidth": 0,
              "ticks": ""
             }
            },
            "type": "scatterternary"
           }
          ],
          "surface": [
           {
            "colorbar": {
             "outlinewidth": 0,
             "ticks": ""
            },
            "colorscale": [
             [
              0,
              "#0d0887"
             ],
             [
              0.1111111111111111,
              "#46039f"
             ],
             [
              0.2222222222222222,
              "#7201a8"
             ],
             [
              0.3333333333333333,
              "#9c179e"
             ],
             [
              0.4444444444444444,
              "#bd3786"
             ],
             [
              0.5555555555555556,
              "#d8576b"
             ],
             [
              0.6666666666666666,
              "#ed7953"
             ],
             [
              0.7777777777777778,
              "#fb9f3a"
             ],
             [
              0.8888888888888888,
              "#fdca26"
             ],
             [
              1,
              "#f0f921"
             ]
            ],
            "type": "surface"
           }
          ],
          "table": [
           {
            "cells": {
             "fill": {
              "color": "#EBF0F8"
             },
             "line": {
              "color": "white"
             }
            },
            "header": {
             "fill": {
              "color": "#C8D4E3"
             },
             "line": {
              "color": "white"
             }
            },
            "type": "table"
           }
          ]
         },
         "layout": {
          "annotationdefaults": {
           "arrowcolor": "#2a3f5f",
           "arrowhead": 0,
           "arrowwidth": 1
          },
          "autotypenumbers": "strict",
          "coloraxis": {
           "colorbar": {
            "outlinewidth": 0,
            "ticks": ""
           }
          },
          "colorscale": {
           "diverging": [
            [
             0,
             "#8e0152"
            ],
            [
             0.1,
             "#c51b7d"
            ],
            [
             0.2,
             "#de77ae"
            ],
            [
             0.3,
             "#f1b6da"
            ],
            [
             0.4,
             "#fde0ef"
            ],
            [
             0.5,
             "#f7f7f7"
            ],
            [
             0.6,
             "#e6f5d0"
            ],
            [
             0.7,
             "#b8e186"
            ],
            [
             0.8,
             "#7fbc41"
            ],
            [
             0.9,
             "#4d9221"
            ],
            [
             1,
             "#276419"
            ]
           ],
           "sequential": [
            [
             0,
             "#0d0887"
            ],
            [
             0.1111111111111111,
             "#46039f"
            ],
            [
             0.2222222222222222,
             "#7201a8"
            ],
            [
             0.3333333333333333,
             "#9c179e"
            ],
            [
             0.4444444444444444,
             "#bd3786"
            ],
            [
             0.5555555555555556,
             "#d8576b"
            ],
            [
             0.6666666666666666,
             "#ed7953"
            ],
            [
             0.7777777777777778,
             "#fb9f3a"
            ],
            [
             0.8888888888888888,
             "#fdca26"
            ],
            [
             1,
             "#f0f921"
            ]
           ],
           "sequentialminus": [
            [
             0,
             "#0d0887"
            ],
            [
             0.1111111111111111,
             "#46039f"
            ],
            [
             0.2222222222222222,
             "#7201a8"
            ],
            [
             0.3333333333333333,
             "#9c179e"
            ],
            [
             0.4444444444444444,
             "#bd3786"
            ],
            [
             0.5555555555555556,
             "#d8576b"
            ],
            [
             0.6666666666666666,
             "#ed7953"
            ],
            [
             0.7777777777777778,
             "#fb9f3a"
            ],
            [
             0.8888888888888888,
             "#fdca26"
            ],
            [
             1,
             "#f0f921"
            ]
           ]
          },
          "colorway": [
           "#636efa",
           "#EF553B",
           "#00cc96",
           "#ab63fa",
           "#FFA15A",
           "#19d3f3",
           "#FF6692",
           "#B6E880",
           "#FF97FF",
           "#FECB52"
          ],
          "font": {
           "color": "#2a3f5f"
          },
          "geo": {
           "bgcolor": "white",
           "lakecolor": "white",
           "landcolor": "#E5ECF6",
           "showlakes": true,
           "showland": true,
           "subunitcolor": "white"
          },
          "hoverlabel": {
           "align": "left"
          },
          "hovermode": "closest",
          "mapbox": {
           "style": "light"
          },
          "paper_bgcolor": "white",
          "plot_bgcolor": "#E5ECF6",
          "polar": {
           "angularaxis": {
            "gridcolor": "white",
            "linecolor": "white",
            "ticks": ""
           },
           "bgcolor": "#E5ECF6",
           "radialaxis": {
            "gridcolor": "white",
            "linecolor": "white",
            "ticks": ""
           }
          },
          "scene": {
           "xaxis": {
            "backgroundcolor": "#E5ECF6",
            "gridcolor": "white",
            "gridwidth": 2,
            "linecolor": "white",
            "showbackground": true,
            "ticks": "",
            "zerolinecolor": "white"
           },
           "yaxis": {
            "backgroundcolor": "#E5ECF6",
            "gridcolor": "white",
            "gridwidth": 2,
            "linecolor": "white",
            "showbackground": true,
            "ticks": "",
            "zerolinecolor": "white"
           },
           "zaxis": {
            "backgroundcolor": "#E5ECF6",
            "gridcolor": "white",
            "gridwidth": 2,
            "linecolor": "white",
            "showbackground": true,
            "ticks": "",
            "zerolinecolor": "white"
           }
          },
          "shapedefaults": {
           "line": {
            "color": "#2a3f5f"
           }
          },
          "ternary": {
           "aaxis": {
            "gridcolor": "white",
            "linecolor": "white",
            "ticks": ""
           },
           "baxis": {
            "gridcolor": "white",
            "linecolor": "white",
            "ticks": ""
           },
           "bgcolor": "#E5ECF6",
           "caxis": {
            "gridcolor": "white",
            "linecolor": "white",
            "ticks": ""
           }
          },
          "title": {
           "x": 0.05
          },
          "xaxis": {
           "automargin": true,
           "gridcolor": "white",
           "linecolor": "white",
           "ticks": "",
           "title": {
            "standoff": 15
           },
           "zerolinecolor": "white",
           "zerolinewidth": 2
          },
          "yaxis": {
           "automargin": true,
           "gridcolor": "white",
           "linecolor": "white",
           "ticks": "",
           "title": {
            "standoff": 15
           },
           "zerolinecolor": "white",
           "zerolinewidth": 2
          }
         }
        },
        "title": {
         "text": "Random Forest Feature Importance"
        },
        "xaxis": {
         "showgrid": false,
         "showline": false,
         "ticklen": 5,
         "zeroline": false
        },
        "yaxis": {
         "gridwidth": 2,
         "showgrid": false,
         "ticklen": 5,
         "title": {
          "text": "Feature Importance"
         },
         "zeroline": false
        }
       }
      },
      "text/html": [
       "<div>                            <div id=\"34009028-5421-4d31-b1ec-90e4f8af7db8\" class=\"plotly-graph-div\" style=\"height:525px; width:100%;\"></div>            <script type=\"text/javascript\">                require([\"plotly\"], function(Plotly) {                    window.PLOTLYENV=window.PLOTLYENV || {};                                    if (document.getElementById(\"34009028-5421-4d31-b1ec-90e4f8af7db8\")) {                    Plotly.newPlot(                        \"34009028-5421-4d31-b1ec-90e4f8af7db8\",                        [{\"marker\":{\"color\":[0.06206946005119158,0.046981023046095756,0.046373656042109294,0.017784527406745895,0.026878876790197282,0.039900575701641294,0.02675789590934677,0.017424191475707975,0.02794030545221755,0.0646594929513493,0.0502471545522506,0.030142083782336654,0.030289086304487647,0.005223278528967365,0.023958300065859136,0.02640226910472461,0.04978158249746083,0.0230806477294737,0.020509574302867702,0.051663094714706946,0.02938625322659232,0.018079389877763797,0.032107679724024306,0.014809235393352025,0.007440134629498489,0.006378693631323309,0.00920280188565154,0.007451039746533745,0.00789170759273288,0.003810173955979557,0.002551839326666474,0.0010613201826831728,0.007804234486938824,0.0008035155062864292,0.0016343366300582934,0.008093699929589464,0.008259366094158244,0.006030204853296983,0.00296760339965331,0.007387560006901011,0.008144431593323684,0.00801159672456419,0.0024753738983030534,0.008979342952359786,0.010732621165164397,0.0021044738312641894,0.00796463516636914,0.008441215776332875,0.004468165826135097,0.035948665723780526,0.031511610852981],\"colorscale\":[[0.0,\"rgb(12,51,131)\"],[0.25,\"rgb(10,136,186)\"],[0.5,\"rgb(242,211,56)\"],[0.75,\"rgb(242,143,56)\"],[1.0,\"rgb(217,30,30)\"]],\"showscale\":true,\"size\":13,\"sizemode\":\"diameter\",\"sizeref\":1},\"mode\":\"markers\",\"text\":[\"Age\",\"DailyRate\",\"DistanceFromHome\",\"Education\",\"EnvironmentSatisfaction\",\"HourlyRate\",\"JobInvolvement\",\"JobLevel\",\"JobSatisfaction\",\"MonthlyIncome\",\"MonthlyRate\",\"NumCompaniesWorked\",\"PercentSalaryHike\",\"PerformanceRating\",\"RelationshipSatisfaction\",\"StockOptionLevel\",\"TotalWorkingYears\",\"TrainingTimesLastYear\",\"WorkLifeBalance\",\"YearsAtCompany\",\"YearsInCurrentRole\",\"YearsSinceLastPromotion\",\"YearsWithCurrManager\",\"MaritalStatus_Single\",\"MaritalStatus_Married\",\"MaritalStatus_Divorced\",\"JobRole_Sales Executive\",\"JobRole_Research Scientist\",\"JobRole_Laboratory Technician\",\"JobRole_Manufacturing Director\",\"JobRole_Healthcare Representative\",\"JobRole_Manager\",\"JobRole_Sales Representative\",\"JobRole_Research Director\",\"JobRole_Human Resources\",\"Gender_Female\",\"Gender_Male\",\"EducationField_Life Sciences\",\"EducationField_Other\",\"EducationField_Medical\",\"EducationField_Marketing\",\"EducationField_Technical Degree\",\"EducationField_Human Resources\",\"Department_Sales\",\"Department_Research & Development\",\"Department_Human Resources\",\"BusinessTravel_Travel_Rarely\",\"BusinessTravel_Travel_Frequently\",\"BusinessTravel_Non-Travel\",\"OverTime_Yes\",\"OverTime_No\"],\"x\":[\"Age\",\"DailyRate\",\"DistanceFromHome\",\"Education\",\"EnvironmentSatisfaction\",\"HourlyRate\",\"JobInvolvement\",\"JobLevel\",\"JobSatisfaction\",\"MonthlyIncome\",\"MonthlyRate\",\"NumCompaniesWorked\",\"PercentSalaryHike\",\"PerformanceRating\",\"RelationshipSatisfaction\",\"StockOptionLevel\",\"TotalWorkingYears\",\"TrainingTimesLastYear\",\"WorkLifeBalance\",\"YearsAtCompany\",\"YearsInCurrentRole\",\"YearsSinceLastPromotion\",\"YearsWithCurrManager\",\"MaritalStatus_Single\",\"MaritalStatus_Married\",\"MaritalStatus_Divorced\",\"JobRole_Sales Executive\",\"JobRole_Research Scientist\",\"JobRole_Laboratory Technician\",\"JobRole_Manufacturing Director\",\"JobRole_Healthcare Representative\",\"JobRole_Manager\",\"JobRole_Sales Representative\",\"JobRole_Research Director\",\"JobRole_Human Resources\",\"Gender_Female\",\"Gender_Male\",\"EducationField_Life Sciences\",\"EducationField_Other\",\"EducationField_Medical\",\"EducationField_Marketing\",\"EducationField_Technical Degree\",\"EducationField_Human Resources\",\"Department_Sales\",\"Department_Research & Development\",\"Department_Human Resources\",\"BusinessTravel_Travel_Rarely\",\"BusinessTravel_Travel_Frequently\",\"BusinessTravel_Non-Travel\",\"OverTime_Yes\",\"OverTime_No\"],\"y\":[0.06206946005119158,0.046981023046095756,0.046373656042109294,0.017784527406745895,0.026878876790197282,0.039900575701641294,0.02675789590934677,0.017424191475707975,0.02794030545221755,0.0646594929513493,0.0502471545522506,0.030142083782336654,0.030289086304487647,0.005223278528967365,0.023958300065859136,0.02640226910472461,0.04978158249746083,0.0230806477294737,0.020509574302867702,0.051663094714706946,0.02938625322659232,0.018079389877763797,0.032107679724024306,0.014809235393352025,0.007440134629498489,0.006378693631323309,0.00920280188565154,0.007451039746533745,0.00789170759273288,0.003810173955979557,0.002551839326666474,0.0010613201826831728,0.007804234486938824,0.0008035155062864292,0.0016343366300582934,0.008093699929589464,0.008259366094158244,0.006030204853296983,0.00296760339965331,0.007387560006901011,0.008144431593323684,0.00801159672456419,0.0024753738983030534,0.008979342952359786,0.010732621165164397,0.0021044738312641894,0.00796463516636914,0.008441215776332875,0.004468165826135097,0.035948665723780526,0.031511610852981],\"type\":\"scatter\"}],                        {\"autosize\":true,\"hovermode\":\"closest\",\"showlegend\":false,\"template\":{\"data\":{\"barpolar\":[{\"marker\":{\"line\":{\"color\":\"#E5ECF6\",\"width\":0.5},\"pattern\":{\"fillmode\":\"overlay\",\"size\":10,\"solidity\":0.2}},\"type\":\"barpolar\"}],\"bar\":[{\"error_x\":{\"color\":\"#2a3f5f\"},\"error_y\":{\"color\":\"#2a3f5f\"},\"marker\":{\"line\":{\"color\":\"#E5ECF6\",\"width\":0.5},\"pattern\":{\"fillmode\":\"overlay\",\"size\":10,\"solidity\":0.2}},\"type\":\"bar\"}],\"carpet\":[{\"aaxis\":{\"endlinecolor\":\"#2a3f5f\",\"gridcolor\":\"white\",\"linecolor\":\"white\",\"minorgridcolor\":\"white\",\"startlinecolor\":\"#2a3f5f\"},\"baxis\":{\"endlinecolor\":\"#2a3f5f\",\"gridcolor\":\"white\",\"linecolor\":\"white\",\"minorgridcolor\":\"white\",\"startlinecolor\":\"#2a3f5f\"},\"type\":\"carpet\"}],\"choropleth\":[{\"colorbar\":{\"outlinewidth\":0,\"ticks\":\"\"},\"type\":\"choropleth\"}],\"contourcarpet\":[{\"colorbar\":{\"outlinewidth\":0,\"ticks\":\"\"},\"type\":\"contourcarpet\"}],\"contour\":[{\"colorbar\":{\"outlinewidth\":0,\"ticks\":\"\"},\"colorscale\":[[0.0,\"#0d0887\"],[0.1111111111111111,\"#46039f\"],[0.2222222222222222,\"#7201a8\"],[0.3333333333333333,\"#9c179e\"],[0.4444444444444444,\"#bd3786\"],[0.5555555555555556,\"#d8576b\"],[0.6666666666666666,\"#ed7953\"],[0.7777777777777778,\"#fb9f3a\"],[0.8888888888888888,\"#fdca26\"],[1.0,\"#f0f921\"]],\"type\":\"contour\"}],\"heatmapgl\":[{\"colorbar\":{\"outlinewidth\":0,\"ticks\":\"\"},\"colorscale\":[[0.0,\"#0d0887\"],[0.1111111111111111,\"#46039f\"],[0.2222222222222222,\"#7201a8\"],[0.3333333333333333,\"#9c179e\"],[0.4444444444444444,\"#bd3786\"],[0.5555555555555556,\"#d8576b\"],[0.6666666666666666,\"#ed7953\"],[0.7777777777777778,\"#fb9f3a\"],[0.8888888888888888,\"#fdca26\"],[1.0,\"#f0f921\"]],\"type\":\"heatmapgl\"}],\"heatmap\":[{\"colorbar\":{\"outlinewidth\":0,\"ticks\":\"\"},\"colorscale\":[[0.0,\"#0d0887\"],[0.1111111111111111,\"#46039f\"],[0.2222222222222222,\"#7201a8\"],[0.3333333333333333,\"#9c179e\"],[0.4444444444444444,\"#bd3786\"],[0.5555555555555556,\"#d8576b\"],[0.6666666666666666,\"#ed7953\"],[0.7777777777777778,\"#fb9f3a\"],[0.8888888888888888,\"#fdca26\"],[1.0,\"#f0f921\"]],\"type\":\"heatmap\"}],\"histogram2dcontour\":[{\"colorbar\":{\"outlinewidth\":0,\"ticks\":\"\"},\"colorscale\":[[0.0,\"#0d0887\"],[0.1111111111111111,\"#46039f\"],[0.2222222222222222,\"#7201a8\"],[0.3333333333333333,\"#9c179e\"],[0.4444444444444444,\"#bd3786\"],[0.5555555555555556,\"#d8576b\"],[0.6666666666666666,\"#ed7953\"],[0.7777777777777778,\"#fb9f3a\"],[0.8888888888888888,\"#fdca26\"],[1.0,\"#f0f921\"]],\"type\":\"histogram2dcontour\"}],\"histogram2d\":[{\"colorbar\":{\"outlinewidth\":0,\"ticks\":\"\"},\"colorscale\":[[0.0,\"#0d0887\"],[0.1111111111111111,\"#46039f\"],[0.2222222222222222,\"#7201a8\"],[0.3333333333333333,\"#9c179e\"],[0.4444444444444444,\"#bd3786\"],[0.5555555555555556,\"#d8576b\"],[0.6666666666666666,\"#ed7953\"],[0.7777777777777778,\"#fb9f3a\"],[0.8888888888888888,\"#fdca26\"],[1.0,\"#f0f921\"]],\"type\":\"histogram2d\"}],\"histogram\":[{\"marker\":{\"pattern\":{\"fillmode\":\"overlay\",\"size\":10,\"solidity\":0.2}},\"type\":\"histogram\"}],\"mesh3d\":[{\"colorbar\":{\"outlinewidth\":0,\"ticks\":\"\"},\"type\":\"mesh3d\"}],\"parcoords\":[{\"line\":{\"colorbar\":{\"outlinewidth\":0,\"ticks\":\"\"}},\"type\":\"parcoords\"}],\"pie\":[{\"automargin\":true,\"type\":\"pie\"}],\"scatter3d\":[{\"line\":{\"colorbar\":{\"outlinewidth\":0,\"ticks\":\"\"}},\"marker\":{\"colorbar\":{\"outlinewidth\":0,\"ticks\":\"\"}},\"type\":\"scatter3d\"}],\"scattercarpet\":[{\"marker\":{\"colorbar\":{\"outlinewidth\":0,\"ticks\":\"\"}},\"type\":\"scattercarpet\"}],\"scattergeo\":[{\"marker\":{\"colorbar\":{\"outlinewidth\":0,\"ticks\":\"\"}},\"type\":\"scattergeo\"}],\"scattergl\":[{\"marker\":{\"colorbar\":{\"outlinewidth\":0,\"ticks\":\"\"}},\"type\":\"scattergl\"}],\"scattermapbox\":[{\"marker\":{\"colorbar\":{\"outlinewidth\":0,\"ticks\":\"\"}},\"type\":\"scattermapbox\"}],\"scatterpolargl\":[{\"marker\":{\"colorbar\":{\"outlinewidth\":0,\"ticks\":\"\"}},\"type\":\"scatterpolargl\"}],\"scatterpolar\":[{\"marker\":{\"colorbar\":{\"outlinewidth\":0,\"ticks\":\"\"}},\"type\":\"scatterpolar\"}],\"scatter\":[{\"marker\":{\"colorbar\":{\"outlinewidth\":0,\"ticks\":\"\"}},\"type\":\"scatter\"}],\"scatterternary\":[{\"marker\":{\"colorbar\":{\"outlinewidth\":0,\"ticks\":\"\"}},\"type\":\"scatterternary\"}],\"surface\":[{\"colorbar\":{\"outlinewidth\":0,\"ticks\":\"\"},\"colorscale\":[[0.0,\"#0d0887\"],[0.1111111111111111,\"#46039f\"],[0.2222222222222222,\"#7201a8\"],[0.3333333333333333,\"#9c179e\"],[0.4444444444444444,\"#bd3786\"],[0.5555555555555556,\"#d8576b\"],[0.6666666666666666,\"#ed7953\"],[0.7777777777777778,\"#fb9f3a\"],[0.8888888888888888,\"#fdca26\"],[1.0,\"#f0f921\"]],\"type\":\"surface\"}],\"table\":[{\"cells\":{\"fill\":{\"color\":\"#EBF0F8\"},\"line\":{\"color\":\"white\"}},\"header\":{\"fill\":{\"color\":\"#C8D4E3\"},\"line\":{\"color\":\"white\"}},\"type\":\"table\"}]},\"layout\":{\"annotationdefaults\":{\"arrowcolor\":\"#2a3f5f\",\"arrowhead\":0,\"arrowwidth\":1},\"autotypenumbers\":\"strict\",\"coloraxis\":{\"colorbar\":{\"outlinewidth\":0,\"ticks\":\"\"}},\"colorscale\":{\"diverging\":[[0,\"#8e0152\"],[0.1,\"#c51b7d\"],[0.2,\"#de77ae\"],[0.3,\"#f1b6da\"],[0.4,\"#fde0ef\"],[0.5,\"#f7f7f7\"],[0.6,\"#e6f5d0\"],[0.7,\"#b8e186\"],[0.8,\"#7fbc41\"],[0.9,\"#4d9221\"],[1,\"#276419\"]],\"sequential\":[[0.0,\"#0d0887\"],[0.1111111111111111,\"#46039f\"],[0.2222222222222222,\"#7201a8\"],[0.3333333333333333,\"#9c179e\"],[0.4444444444444444,\"#bd3786\"],[0.5555555555555556,\"#d8576b\"],[0.6666666666666666,\"#ed7953\"],[0.7777777777777778,\"#fb9f3a\"],[0.8888888888888888,\"#fdca26\"],[1.0,\"#f0f921\"]],\"sequentialminus\":[[0.0,\"#0d0887\"],[0.1111111111111111,\"#46039f\"],[0.2222222222222222,\"#7201a8\"],[0.3333333333333333,\"#9c179e\"],[0.4444444444444444,\"#bd3786\"],[0.5555555555555556,\"#d8576b\"],[0.6666666666666666,\"#ed7953\"],[0.7777777777777778,\"#fb9f3a\"],[0.8888888888888888,\"#fdca26\"],[1.0,\"#f0f921\"]]},\"colorway\":[\"#636efa\",\"#EF553B\",\"#00cc96\",\"#ab63fa\",\"#FFA15A\",\"#19d3f3\",\"#FF6692\",\"#B6E880\",\"#FF97FF\",\"#FECB52\"],\"font\":{\"color\":\"#2a3f5f\"},\"geo\":{\"bgcolor\":\"white\",\"lakecolor\":\"white\",\"landcolor\":\"#E5ECF6\",\"showlakes\":true,\"showland\":true,\"subunitcolor\":\"white\"},\"hoverlabel\":{\"align\":\"left\"},\"hovermode\":\"closest\",\"mapbox\":{\"style\":\"light\"},\"paper_bgcolor\":\"white\",\"plot_bgcolor\":\"#E5ECF6\",\"polar\":{\"angularaxis\":{\"gridcolor\":\"white\",\"linecolor\":\"white\",\"ticks\":\"\"},\"bgcolor\":\"#E5ECF6\",\"radialaxis\":{\"gridcolor\":\"white\",\"linecolor\":\"white\",\"ticks\":\"\"}},\"scene\":{\"xaxis\":{\"backgroundcolor\":\"#E5ECF6\",\"gridcolor\":\"white\",\"gridwidth\":2,\"linecolor\":\"white\",\"showbackground\":true,\"ticks\":\"\",\"zerolinecolor\":\"white\"},\"yaxis\":{\"backgroundcolor\":\"#E5ECF6\",\"gridcolor\":\"white\",\"gridwidth\":2,\"linecolor\":\"white\",\"showbackground\":true,\"ticks\":\"\",\"zerolinecolor\":\"white\"},\"zaxis\":{\"backgroundcolor\":\"#E5ECF6\",\"gridcolor\":\"white\",\"gridwidth\":2,\"linecolor\":\"white\",\"showbackground\":true,\"ticks\":\"\",\"zerolinecolor\":\"white\"}},\"shapedefaults\":{\"line\":{\"color\":\"#2a3f5f\"}},\"ternary\":{\"aaxis\":{\"gridcolor\":\"white\",\"linecolor\":\"white\",\"ticks\":\"\"},\"baxis\":{\"gridcolor\":\"white\",\"linecolor\":\"white\",\"ticks\":\"\"},\"bgcolor\":\"#E5ECF6\",\"caxis\":{\"gridcolor\":\"white\",\"linecolor\":\"white\",\"ticks\":\"\"}},\"title\":{\"x\":0.05},\"xaxis\":{\"automargin\":true,\"gridcolor\":\"white\",\"linecolor\":\"white\",\"ticks\":\"\",\"title\":{\"standoff\":15},\"zerolinecolor\":\"white\",\"zerolinewidth\":2},\"yaxis\":{\"automargin\":true,\"gridcolor\":\"white\",\"linecolor\":\"white\",\"ticks\":\"\",\"title\":{\"standoff\":15},\"zerolinecolor\":\"white\",\"zerolinewidth\":2}}},\"title\":{\"text\":\"Random Forest Feature Importance\"},\"xaxis\":{\"showgrid\":false,\"showline\":false,\"ticklen\":5,\"zeroline\":false},\"yaxis\":{\"gridwidth\":2,\"showgrid\":false,\"ticklen\":5,\"title\":{\"text\":\"Feature Importance\"},\"zeroline\":false}},                        {\"responsive\": true}                    ).then(function(){\n",
       "                            \n",
       "var gd = document.getElementById('34009028-5421-4d31-b1ec-90e4f8af7db8');\n",
       "var x = new MutationObserver(function (mutations, observer) {{\n",
       "        var display = window.getComputedStyle(gd).display;\n",
       "        if (!display || display === 'none') {{\n",
       "            console.log([gd, 'removed!']);\n",
       "            Plotly.purge(gd);\n",
       "            observer.disconnect();\n",
       "        }}\n",
       "}});\n",
       "\n",
       "// Listen for the removal of the full notebook cells\n",
       "var notebookContainer = gd.closest('#notebook-container');\n",
       "if (notebookContainer) {{\n",
       "    x.observe(notebookContainer, {childList: true});\n",
       "}}\n",
       "\n",
       "// Listen for the clearing of the current output cell\n",
       "var outputEl = gd.closest('.output');\n",
       "if (outputEl) {{\n",
       "    x.observe(outputEl, {childList: true});\n",
       "}}\n",
       "\n",
       "                        })                };                });            </script>        </div>"
      ]
     },
     "metadata": {},
     "output_type": "display_data"
    },
    {
     "name": "stdout",
     "output_type": "stream",
     "text": [
      "Accuracy: 0.8707482993197279\n"
     ]
    }
   ],
   "source": [
    "from sklearn.ensemble import RandomForestClassifier\n",
    "from sklearn import metrics\n",
    "\n",
    "RF=RandomForestClassifier(n_estimators=100)\n",
    "\n",
    "RF.fit(X_train,y_train)\n",
    "\n",
    "y_pred=RF.predict(X_test)\n",
    "RF_plot(RF,X_train)\n",
    "\n",
    "\n",
    "# Model Accuracy, how often is the classifier correct?\n",
    "print(\"Accuracy:\",metrics.accuracy_score(y_test, y_pred))\n",
    "RF_plot(RF,X_cor)"
   ]
  },
  {
   "cell_type": "markdown",
   "id": "19c5394c",
   "metadata": {},
   "source": [
    "V grafu muzeme sledovat jake parametry jsou v modelu povazovany za stezejni k urceni Odchodu zamestnance"
   ]
  },
  {
   "cell_type": "markdown",
   "id": "d2a7168b",
   "metadata": {},
   "source": [
    "Model odhali Odchod zamestnancu s presnosti cca 86%, coz je jen o 2% lepsi nez nahodne urceni Odchodu zamestnance."
   ]
  },
  {
   "cell_type": "markdown",
   "id": "dcaf87ed",
   "metadata": {},
   "source": [
    "### RF pro korelovany dataset."
   ]
  },
  {
   "cell_type": "code",
   "execution_count": 123,
   "id": "8fb3c280",
   "metadata": {},
   "outputs": [
    {
     "name": "stdout",
     "output_type": "stream",
     "text": [
      "Accuracy: 0.8435374149659864\n"
     ]
    },
    {
     "data": {
      "image/png": "[encoded data removed]",
      "text/plain": [
       "<Figure size 432x288 with 2 Axes>"
      ]
     },
     "metadata": {
      "needs_background": "light"
     },
     "output_type": "display_data"
    },
    {
     "data": {
      "application/vnd.plotly.v1+json": {
       "config": {
        "linkText": "Export to plot.ly",
        "plotlyServerURL": "https://plot.ly",
        "showLink": false
       },
       "data": [
        {
         "marker": {
          "color": [
           0.11398063487641547,
           0.05234245791637414,
           0.04521716984752516,
           0.036599777176052034,
           0.057578316464921515,
           0.15029368578578958,
           0.0423723365453817,
           0.07971710677994012,
           0.07067807013188517,
           0.0552956668148512,
           0.0576794021701881,
           0.017407667659411666,
           0.011807465084399284,
           0.005764172558560924,
           0.004481753377463878,
           0.00143765469207337,
           0.017331082184539916,
           0.02196641980694526,
           0.018567674010066128,
           0.012462001900936158,
           0.015609645717763269,
           0.028547706485113906,
           0.08286213201340205
          ],
          "colorscale": [
           [
            0,
            "rgb(12,51,131)"
           ],
           [
            0.25,
            "rgb(10,136,186)"
           ],
           [
            0.5,
            "rgb(242,211,56)"
           ],
           [
            0.75,
            "rgb(242,143,56)"
           ],
           [
            1,
            "rgb(217,30,30)"
           ]
          ],
          "showscale": true,
          "size": 13,
          "sizemode": "diameter",
          "sizeref": 1
         },
         "mode": "markers",
         "text": [
          "Age",
          "EnvironmentSatisfaction",
          "JobInvolvement",
          "JobLevel",
          "JobSatisfaction",
          "MonthlyIncome",
          "StockOptionLevel",
          "TotalWorkingYears",
          "YearsAtCompany",
          "YearsInCurrentRole",
          "YearsWithCurrManager",
          "MaritalStatus_Married",
          "MaritalStatus_Divorced",
          "JobRole_Manufacturing Director",
          "JobRole_Manager",
          "JobRole_Research Director",
          "Department_Research & Development",
          "MaritalStatus_Single",
          "JobRole_Laboratory Technician",
          "JobRole_Sales Representative",
          "Department_Sales",
          "BusinessTravel_Travel_Frequently",
          "OverTime_Yes"
         ],
         "type": "scatter",
         "x": [
          "Age",
          "EnvironmentSatisfaction",
          "JobInvolvement",
          "JobLevel",
          "JobSatisfaction",
          "MonthlyIncome",
          "StockOptionLevel",
          "TotalWorkingYears",
          "YearsAtCompany",
          "YearsInCurrentRole",
          "YearsWithCurrManager",
          "MaritalStatus_Married",
          "MaritalStatus_Divorced",
          "JobRole_Manufacturing Director",
          "JobRole_Manager",
          "JobRole_Research Director",
          "Department_Research & Development",
          "MaritalStatus_Single",
          "JobRole_Laboratory Technician",
          "JobRole_Sales Representative",
          "Department_Sales",
          "BusinessTravel_Travel_Frequently",
          "OverTime_Yes"
         ],
         "y": [
          0.11398063487641547,
          0.05234245791637414,
          0.04521716984752516,
          0.036599777176052034,
          0.057578316464921515,
          0.15029368578578958,
          0.0423723365453817,
          0.07971710677994012,
          0.07067807013188517,
          0.0552956668148512,
          0.0576794021701881,
          0.017407667659411666,
          0.011807465084399284,
          0.005764172558560924,
          0.004481753377463878,
          0.00143765469207337,
          0.017331082184539916,
          0.02196641980694526,
          0.018567674010066128,
          0.012462001900936158,
          0.015609645717763269,
          0.028547706485113906,
          0.08286213201340205
         ]
        }
       ],
       "layout": {
        "autosize": true,
        "hovermode": "closest",
        "showlegend": false,
        "template": {
         "data": {
          "bar": [
           {
            "error_x": {
             "color": "#2a3f5f"
            },
            "error_y": {
             "color": "#2a3f5f"
            },
            "marker": {
             "line": {
              "color": "#E5ECF6",
              "width": 0.5
             },
             "pattern": {
              "fillmode": "overlay",
              "size": 10,
              "solidity": 0.2
             }
            },
            "type": "bar"
           }
          ],
          "barpolar": [
           {
            "marker": {
             "line": {
              "color": "#E5ECF6",
              "width": 0.5
             },
             "pattern": {
              "fillmode": "overlay",
              "size": 10,
              "solidity": 0.2
             }
            },
            "type": "barpolar"
           }
          ],
          "carpet": [
           {
            "aaxis": {
             "endlinecolor": "#2a3f5f",
             "gridcolor": "white",
             "linecolor": "white",
             "minorgridcolor": "white",
             "startlinecolor": "#2a3f5f"
            },
            "baxis": {
             "endlinecolor": "#2a3f5f",
             "gridcolor": "white",
             "linecolor": "white",
             "minorgridcolor": "white",
             "startlinecolor": "#2a3f5f"
            },
            "type": "carpet"
           }
          ],
          "choropleth": [
           {
            "colorbar": {
             "outlinewidth": 0,
             "ticks": ""
            },
            "type": "choropleth"
           }
          ],
          "contour": [
           {
            "colorbar": {
             "outlinewidth": 0,
             "ticks": ""
            },
            "colorscale": [
             [
              0,
              "#0d0887"
             ],
             [
              0.1111111111111111,
              "#46039f"
             ],
             [
              0.2222222222222222,
              "#7201a8"
             ],
             [
              0.3333333333333333,
              "#9c179e"
             ],
             [
              0.4444444444444444,
              "#bd3786"
             ],
             [
              0.5555555555555556,
              "#d8576b"
             ],
             [
              0.6666666666666666,
              "#ed7953"
             ],
             [
              0.7777777777777778,
              "#fb9f3a"
             ],
             [
              0.8888888888888888,
              "#fdca26"
             ],
             [
              1,
              "#f0f921"
             ]
            ],
            "type": "contour"
           }
          ],
          "contourcarpet": [
           {
            "colorbar": {
             "outlinewidth": 0,
             "ticks": ""
            },
            "type": "contourcarpet"
           }
          ],
          "heatmap": [
           {
            "colorbar": {
             "outlinewidth": 0,
             "ticks": ""
            },
            "colorscale": [
             [
              0,
              "#0d0887"
             ],
             [
              0.1111111111111111,
              "#46039f"
             ],
             [
              0.2222222222222222,
              "#7201a8"
             ],
             [
              0.3333333333333333,
              "#9c179e"
             ],
             [
              0.4444444444444444,
              "#bd3786"
             ],
             [
              0.5555555555555556,
              "#d8576b"
             ],
             [
              0.6666666666666666,
              "#ed7953"
             ],
             [
              0.7777777777777778,
              "#fb9f3a"
             ],
             [
              0.8888888888888888,
              "#fdca26"
             ],
             [
              1,
              "#f0f921"
             ]
            ],
            "type": "heatmap"
           }
          ],
          "heatmapgl": [
           {
            "colorbar": {
             "outlinewidth": 0,
             "ticks": ""
            },
            "colorscale": [
             [
              0,
              "#0d0887"
             ],
             [
              0.1111111111111111,
              "#46039f"
             ],
             [
              0.2222222222222222,
              "#7201a8"
             ],
             [
              0.3333333333333333,
              "#9c179e"
             ],
             [
              0.4444444444444444,
              "#bd3786"
             ],
             [
              0.5555555555555556,
              "#d8576b"
             ],
             [
              0.6666666666666666,
              "#ed7953"
             ],
             [
              0.7777777777777778,
              "#fb9f3a"
             ],
             [
              0.8888888888888888,
              "#fdca26"
             ],
             [
              1,
              "#f0f921"
             ]
            ],
            "type": "heatmapgl"
           }
          ],
          "histogram": [
           {
            "marker": {
             "pattern": {
              "fillmode": "overlay",
              "size": 10,
              "solidity": 0.2
             }
            },
            "type": "histogram"
           }
          ],
          "histogram2d": [
           {
            "colorbar": {
             "outlinewidth": 0,
             "ticks": ""
            },
            "colorscale": [
             [
              0,
              "#0d0887"
             ],
             [
              0.1111111111111111,
              "#46039f"
             ],
             [
              0.2222222222222222,
              "#7201a8"
             ],
             [
              0.3333333333333333,
              "#9c179e"
             ],
             [
              0.4444444444444444,
              "#bd3786"
             ],
             [
              0.5555555555555556,
              "#d8576b"
             ],
             [
              0.6666666666666666,
              "#ed7953"
             ],
             [
              0.7777777777777778,
              "#fb9f3a"
             ],
             [
              0.8888888888888888,
              "#fdca26"
             ],
             [
              1,
              "#f0f921"
             ]
            ],
            "type": "histogram2d"
           }
          ],
          "histogram2dcontour": [
           {
            "colorbar": {
             "outlinewidth": 0,
             "ticks": ""
            },
            "colorscale": [
             [
              0,
              "#0d0887"
             ],
             [
              0.1111111111111111,
              "#46039f"
             ],
             [
              0.2222222222222222,
              "#7201a8"
             ],
             [
              0.3333333333333333,
              "#9c179e"
             ],
             [
              0.4444444444444444,
              "#bd3786"
             ],
             [
              0.5555555555555556,
              "#d8576b"
             ],
             [
              0.6666666666666666,
              "#ed7953"
             ],
             [
              0.7777777777777778,
              "#fb9f3a"
             ],
             [
              0.8888888888888888,
              "#fdca26"
             ],
             [
              1,
              "#f0f921"
             ]
            ],
            "type": "histogram2dcontour"
           }
          ],
          "mesh3d": [
           {
            "colorbar": {
             "outlinewidth": 0,
             "ticks": ""
            },
            "type": "mesh3d"
           }
          ],
          "parcoords": [
           {
            "line": {
             "colorbar": {
              "outlinewidth": 0,
              "ticks": ""
             }
            },
            "type": "parcoords"
           }
          ],
          "pie": [
           {
            "automargin": true,
            "type": "pie"
           }
          ],
          "scatter": [
           {
            "marker": {
             "colorbar": {
              "outlinewidth": 0,
              "ticks": ""
             }
            },
            "type": "scatter"
           }
          ],
          "scatter3d": [
           {
            "line": {
             "colorbar": {
              "outlinewidth": 0,
              "ticks": ""
             }
            },
            "marker": {
             "colorbar": {
              "outlinewidth": 0,
              "ticks": ""
             }
            },
            "type": "scatter3d"
           }
          ],
          "scattercarpet": [
           {
            "marker": {
             "colorbar": {
              "outlinewidth": 0,
              "ticks": ""
             }
            },
            "type": "scattercarpet"
           }
          ],
          "scattergeo": [
           {
            "marker": {
             "colorbar": {
              "outlinewidth": 0,
              "ticks": ""
             }
            },
            "type": "scattergeo"
           }
          ],
          "scattergl": [
           {
            "marker": {
             "colorbar": {
              "outlinewidth": 0,
              "ticks": ""
             }
            },
            "type": "scattergl"
           }
          ],
          "scattermapbox": [
           {
            "marker": {
             "colorbar": {
              "outlinewidth": 0,
              "ticks": ""
             }
            },
            "type": "scattermapbox"
           }
          ],
          "scatterpolar": [
           {
            "marker": {
             "colorbar": {
              "outlinewidth": 0,
              "ticks": ""
             }
            },
            "type": "scatterpolar"
           }
          ],
          "scatterpolargl": [
           {
            "marker": {
             "colorbar": {
              "outlinewidth": 0,
              "ticks": ""
             }
            },
            "type": "scatterpolargl"
           }
          ],
          "scatterternary": [
           {
            "marker": {
             "colorbar": {
              "outlinewidth": 0,
              "ticks": ""
             }
            },
            "type": "scatterternary"
           }
          ],
          "surface": [
           {
            "colorbar": {
             "outlinewidth": 0,
             "ticks": ""
            },
            "colorscale": [
             [
              0,
              "#0d0887"
             ],
             [
              0.1111111111111111,
              "#46039f"
             ],
             [
              0.2222222222222222,
              "#7201a8"
             ],
             [
              0.3333333333333333,
              "#9c179e"
             ],
             [
              0.4444444444444444,
              "#bd3786"
             ],
             [
              0.5555555555555556,
              "#d8576b"
             ],
             [
              0.6666666666666666,
              "#ed7953"
             ],
             [
              0.7777777777777778,
              "#fb9f3a"
             ],
             [
              0.8888888888888888,
              "#fdca26"
             ],
             [
              1,
              "#f0f921"
             ]
            ],
            "type": "surface"
           }
          ],
          "table": [
           {
            "cells": {
             "fill": {
              "color": "#EBF0F8"
             },
             "line": {
              "color": "white"
             }
            },
            "header": {
             "fill": {
              "color": "#C8D4E3"
             },
             "line": {
              "color": "white"
             }
            },
            "type": "table"
           }
          ]
         },
         "layout": {
          "annotationdefaults": {
           "arrowcolor": "#2a3f5f",
           "arrowhead": 0,
           "arrowwidth": 1
          },
          "autotypenumbers": "strict",
          "coloraxis": {
           "colorbar": {
            "outlinewidth": 0,
            "ticks": ""
           }
          },
          "colorscale": {
           "diverging": [
            [
             0,
             "#8e0152"
            ],
            [
             0.1,
             "#c51b7d"
            ],
            [
             0.2,
             "#de77ae"
            ],
            [
             0.3,
             "#f1b6da"
            ],
            [
             0.4,
             "#fde0ef"
            ],
            [
             0.5,
             "#f7f7f7"
            ],
            [
             0.6,
             "#e6f5d0"
            ],
            [
             0.7,
             "#b8e186"
            ],
            [
             0.8,
             "#7fbc41"
            ],
            [
             0.9,
             "#4d9221"
            ],
            [
             1,
             "#276419"
            ]
           ],
           "sequential": [
            [
             0,
             "#0d0887"
            ],
            [
             0.1111111111111111,
             "#46039f"
            ],
            [
             0.2222222222222222,
             "#7201a8"
            ],
            [
             0.3333333333333333,
             "#9c179e"
            ],
            [
             0.4444444444444444,
             "#bd3786"
            ],
            [
             0.5555555555555556,
             "#d8576b"
            ],
            [
             0.6666666666666666,
             "#ed7953"
            ],
            [
             0.7777777777777778,
             "#fb9f3a"
            ],
            [
             0.8888888888888888,
             "#fdca26"
            ],
            [
             1,
             "#f0f921"
            ]
           ],
           "sequentialminus": [
            [
             0,
             "#0d0887"
            ],
            [
             0.1111111111111111,
             "#46039f"
            ],
            [
             0.2222222222222222,
             "#7201a8"
            ],
            [
             0.3333333333333333,
             "#9c179e"
            ],
            [
             0.4444444444444444,
             "#bd3786"
            ],
            [
             0.5555555555555556,
             "#d8576b"
            ],
            [
             0.6666666666666666,
             "#ed7953"
            ],
            [
             0.7777777777777778,
             "#fb9f3a"
            ],
            [
             0.8888888888888888,
             "#fdca26"
            ],
            [
             1,
             "#f0f921"
            ]
           ]
          },
          "colorway": [
           "#636efa",
           "#EF553B",
           "#00cc96",
           "#ab63fa",
           "#FFA15A",
           "#19d3f3",
           "#FF6692",
           "#B6E880",
           "#FF97FF",
           "#FECB52"
          ],
          "font": {
           "color": "#2a3f5f"
          },
          "geo": {
           "bgcolor": "white",
           "lakecolor": "white",
           "landcolor": "#E5ECF6",
           "showlakes": true,
           "showland": true,
           "subunitcolor": "white"
          },
          "hoverlabel": {
           "align": "left"
          },
          "hovermode": "closest",
          "mapbox": {
           "style": "light"
          },
          "paper_bgcolor": "white",
          "plot_bgcolor": "#E5ECF6",
          "polar": {
           "angularaxis": {
            "gridcolor": "white",
            "linecolor": "white",
            "ticks": ""
           },
           "bgcolor": "#E5ECF6",
           "radialaxis": {
            "gridcolor": "white",
            "linecolor": "white",
            "ticks": ""
           }
          },
          "scene": {
           "xaxis": {
            "backgroundcolor": "#E5ECF6",
            "gridcolor": "white",
            "gridwidth": 2,
            "linecolor": "white",
            "showbackground": true,
            "ticks": "",
            "zerolinecolor": "white"
           },
           "yaxis": {
            "backgroundcolor": "#E5ECF6",
            "gridcolor": "white",
            "gridwidth": 2,
            "linecolor": "white",
            "showbackground": true,
            "ticks": "",
            "zerolinecolor": "white"
           },
           "zaxis": {
            "backgroundcolor": "#E5ECF6",
            "gridcolor": "white",
            "gridwidth": 2,
            "linecolor": "white",
            "showbackground": true,
            "ticks": "",
            "zerolinecolor": "white"
           }
          },
          "shapedefaults": {
           "line": {
            "color": "#2a3f5f"
           }
          },
          "ternary": {
           "aaxis": {
            "gridcolor": "white",
            "linecolor": "white",
            "ticks": ""
           },
           "baxis": {
            "gridcolor": "white",
            "linecolor": "white",
            "ticks": ""
           },
           "bgcolor": "#E5ECF6",
           "caxis": {
            "gridcolor": "white",
            "linecolor": "white",
            "ticks": ""
           }
          },
          "title": {
           "x": 0.05
          },
          "xaxis": {
           "automargin": true,
           "gridcolor": "white",
           "linecolor": "white",
           "ticks": "",
           "title": {
            "standoff": 15
           },
           "zerolinecolor": "white",
           "zerolinewidth": 2
          },
          "yaxis": {
           "automargin": true,
           "gridcolor": "white",
           "linecolor": "white",
           "ticks": "",
           "title": {
            "standoff": 15
           },
           "zerolinecolor": "white",
           "zerolinewidth": 2
          }
         }
        },
        "title": {
         "text": "Random Forest Feature Importance"
        },
        "xaxis": {
         "showgrid": false,
         "showline": false,
         "ticklen": 5,
         "zeroline": false
        },
        "yaxis": {
         "gridwidth": 2,
         "showgrid": false,
         "ticklen": 5,
         "title": {
          "text": "Feature Importance"
         },
         "zeroline": false
        }
       }
      },
      "text/html": [
       "<div>                            <div id=\"9a02d834-1698-4d5b-b36e-f6ccac0e88df\" class=\"plotly-graph-div\" style=\"height:525px; width:100%;\"></div>            <script type=\"text/javascript\">                require([\"plotly\"], function(Plotly) {                    window.PLOTLYENV=window.PLOTLYENV || {};                                    if (document.getElementById(\"9a02d834-1698-4d5b-b36e-f6ccac0e88df\")) {                    Plotly.newPlot(                        \"9a02d834-1698-4d5b-b36e-f6ccac0e88df\",                        [{\"marker\":{\"color\":[0.11398063487641547,0.05234245791637414,0.04521716984752516,0.036599777176052034,0.057578316464921515,0.15029368578578958,0.0423723365453817,0.07971710677994012,0.07067807013188517,0.0552956668148512,0.0576794021701881,0.017407667659411666,0.011807465084399284,0.005764172558560924,0.004481753377463878,0.00143765469207337,0.017331082184539916,0.02196641980694526,0.018567674010066128,0.012462001900936158,0.015609645717763269,0.028547706485113906,0.08286213201340205],\"colorscale\":[[0.0,\"rgb(12,51,131)\"],[0.25,\"rgb(10,136,186)\"],[0.5,\"rgb(242,211,56)\"],[0.75,\"rgb(242,143,56)\"],[1.0,\"rgb(217,30,30)\"]],\"showscale\":true,\"size\":13,\"sizemode\":\"diameter\",\"sizeref\":1},\"mode\":\"markers\",\"text\":[\"Age\",\"EnvironmentSatisfaction\",\"JobInvolvement\",\"JobLevel\",\"JobSatisfaction\",\"MonthlyIncome\",\"StockOptionLevel\",\"TotalWorkingYears\",\"YearsAtCompany\",\"YearsInCurrentRole\",\"YearsWithCurrManager\",\"MaritalStatus_Married\",\"MaritalStatus_Divorced\",\"JobRole_Manufacturing Director\",\"JobRole_Manager\",\"JobRole_Research Director\",\"Department_Research & Development\",\"MaritalStatus_Single\",\"JobRole_Laboratory Technician\",\"JobRole_Sales Representative\",\"Department_Sales\",\"BusinessTravel_Travel_Frequently\",\"OverTime_Yes\"],\"x\":[\"Age\",\"EnvironmentSatisfaction\",\"JobInvolvement\",\"JobLevel\",\"JobSatisfaction\",\"MonthlyIncome\",\"StockOptionLevel\",\"TotalWorkingYears\",\"YearsAtCompany\",\"YearsInCurrentRole\",\"YearsWithCurrManager\",\"MaritalStatus_Married\",\"MaritalStatus_Divorced\",\"JobRole_Manufacturing Director\",\"JobRole_Manager\",\"JobRole_Research Director\",\"Department_Research & Development\",\"MaritalStatus_Single\",\"JobRole_Laboratory Technician\",\"JobRole_Sales Representative\",\"Department_Sales\",\"BusinessTravel_Travel_Frequently\",\"OverTime_Yes\"],\"y\":[0.11398063487641547,0.05234245791637414,0.04521716984752516,0.036599777176052034,0.057578316464921515,0.15029368578578958,0.0423723365453817,0.07971710677994012,0.07067807013188517,0.0552956668148512,0.0576794021701881,0.017407667659411666,0.011807465084399284,0.005764172558560924,0.004481753377463878,0.00143765469207337,0.017331082184539916,0.02196641980694526,0.018567674010066128,0.012462001900936158,0.015609645717763269,0.028547706485113906,0.08286213201340205],\"type\":\"scatter\"}],                        {\"autosize\":true,\"hovermode\":\"closest\",\"showlegend\":false,\"template\":{\"data\":{\"barpolar\":[{\"marker\":{\"line\":{\"color\":\"#E5ECF6\",\"width\":0.5},\"pattern\":{\"fillmode\":\"overlay\",\"size\":10,\"solidity\":0.2}},\"type\":\"barpolar\"}],\"bar\":[{\"error_x\":{\"color\":\"#2a3f5f\"},\"error_y\":{\"color\":\"#2a3f5f\"},\"marker\":{\"line\":{\"color\":\"#E5ECF6\",\"width\":0.5},\"pattern\":{\"fillmode\":\"overlay\",\"size\":10,\"solidity\":0.2}},\"type\":\"bar\"}],\"carpet\":[{\"aaxis\":{\"endlinecolor\":\"#2a3f5f\",\"gridcolor\":\"white\",\"linecolor\":\"white\",\"minorgridcolor\":\"white\",\"startlinecolor\":\"#2a3f5f\"},\"baxis\":{\"endlinecolor\":\"#2a3f5f\",\"gridcolor\":\"white\",\"linecolor\":\"white\",\"minorgridcolor\":\"white\",\"startlinecolor\":\"#2a3f5f\"},\"type\":\"carpet\"}],\"choropleth\":[{\"colorbar\":{\"outlinewidth\":0,\"ticks\":\"\"},\"type\":\"choropleth\"}],\"contourcarpet\":[{\"colorbar\":{\"outlinewidth\":0,\"ticks\":\"\"},\"type\":\"contourcarpet\"}],\"contour\":[{\"colorbar\":{\"outlinewidth\":0,\"ticks\":\"\"},\"colorscale\":[[0.0,\"#0d0887\"],[0.1111111111111111,\"#46039f\"],[0.2222222222222222,\"#7201a8\"],[0.3333333333333333,\"#9c179e\"],[0.4444444444444444,\"#bd3786\"],[0.5555555555555556,\"#d8576b\"],[0.6666666666666666,\"#ed7953\"],[0.7777777777777778,\"#fb9f3a\"],[0.8888888888888888,\"#fdca26\"],[1.0,\"#f0f921\"]],\"type\":\"contour\"}],\"heatmapgl\":[{\"colorbar\":{\"outlinewidth\":0,\"ticks\":\"\"},\"colorscale\":[[0.0,\"#0d0887\"],[0.1111111111111111,\"#46039f\"],[0.2222222222222222,\"#7201a8\"],[0.3333333333333333,\"#9c179e\"],[0.4444444444444444,\"#bd3786\"],[0.5555555555555556,\"#d8576b\"],[0.6666666666666666,\"#ed7953\"],[0.7777777777777778,\"#fb9f3a\"],[0.8888888888888888,\"#fdca26\"],[1.0,\"#f0f921\"]],\"type\":\"heatmapgl\"}],\"heatmap\":[{\"colorbar\":{\"outlinewidth\":0,\"ticks\":\"\"},\"colorscale\":[[0.0,\"#0d0887\"],[0.1111111111111111,\"#46039f\"],[0.2222222222222222,\"#7201a8\"],[0.3333333333333333,\"#9c179e\"],[0.4444444444444444,\"#bd3786\"],[0.5555555555555556,\"#d8576b\"],[0.6666666666666666,\"#ed7953\"],[0.7777777777777778,\"#fb9f3a\"],[0.8888888888888888,\"#fdca26\"],[1.0,\"#f0f921\"]],\"type\":\"heatmap\"}],\"histogram2dcontour\":[{\"colorbar\":{\"outlinewidth\":0,\"ticks\":\"\"},\"colorscale\":[[0.0,\"#0d0887\"],[0.1111111111111111,\"#46039f\"],[0.2222222222222222,\"#7201a8\"],[0.3333333333333333,\"#9c179e\"],[0.4444444444444444,\"#bd3786\"],[0.5555555555555556,\"#d8576b\"],[0.6666666666666666,\"#ed7953\"],[0.7777777777777778,\"#fb9f3a\"],[0.8888888888888888,\"#fdca26\"],[1.0,\"#f0f921\"]],\"type\":\"histogram2dcontour\"}],\"histogram2d\":[{\"colorbar\":{\"outlinewidth\":0,\"ticks\":\"\"},\"colorscale\":[[0.0,\"#0d0887\"],[0.1111111111111111,\"#46039f\"],[0.2222222222222222,\"#7201a8\"],[0.3333333333333333,\"#9c179e\"],[0.4444444444444444,\"#bd3786\"],[0.5555555555555556,\"#d8576b\"],[0.6666666666666666,\"#ed7953\"],[0.7777777777777778,\"#fb9f3a\"],[0.8888888888888888,\"#fdca26\"],[1.0,\"#f0f921\"]],\"type\":\"histogram2d\"}],\"histogram\":[{\"marker\":{\"pattern\":{\"fillmode\":\"overlay\",\"size\":10,\"solidity\":0.2}},\"type\":\"histogram\"}],\"mesh3d\":[{\"colorbar\":{\"outlinewidth\":0,\"ticks\":\"\"},\"type\":\"mesh3d\"}],\"parcoords\":[{\"line\":{\"colorbar\":{\"outlinewidth\":0,\"ticks\":\"\"}},\"type\":\"parcoords\"}],\"pie\":[{\"automargin\":true,\"type\":\"pie\"}],\"scatter3d\":[{\"line\":{\"colorbar\":{\"outlinewidth\":0,\"ticks\":\"\"}},\"marker\":{\"colorbar\":{\"outlinewidth\":0,\"ticks\":\"\"}},\"type\":\"scatter3d\"}],\"scattercarpet\":[{\"marker\":{\"colorbar\":{\"outlinewidth\":0,\"ticks\":\"\"}},\"type\":\"scattercarpet\"}],\"scattergeo\":[{\"marker\":{\"colorbar\":{\"outlinewidth\":0,\"ticks\":\"\"}},\"type\":\"scattergeo\"}],\"scattergl\":[{\"marker\":{\"colorbar\":{\"outlinewidth\":0,\"ticks\":\"\"}},\"type\":\"scattergl\"}],\"scattermapbox\":[{\"marker\":{\"colorbar\":{\"outlinewidth\":0,\"ticks\":\"\"}},\"type\":\"scattermapbox\"}],\"scatterpolargl\":[{\"marker\":{\"colorbar\":{\"outlinewidth\":0,\"ticks\":\"\"}},\"type\":\"scatterpolargl\"}],\"scatterpolar\":[{\"marker\":{\"colorbar\":{\"outlinewidth\":0,\"ticks\":\"\"}},\"type\":\"scatterpolar\"}],\"scatter\":[{\"marker\":{\"colorbar\":{\"outlinewidth\":0,\"ticks\":\"\"}},\"type\":\"scatter\"}],\"scatterternary\":[{\"marker\":{\"colorbar\":{\"outlinewidth\":0,\"ticks\":\"\"}},\"type\":\"scatterternary\"}],\"surface\":[{\"colorbar\":{\"outlinewidth\":0,\"ticks\":\"\"},\"colorscale\":[[0.0,\"#0d0887\"],[0.1111111111111111,\"#46039f\"],[0.2222222222222222,\"#7201a8\"],[0.3333333333333333,\"#9c179e\"],[0.4444444444444444,\"#bd3786\"],[0.5555555555555556,\"#d8576b\"],[0.6666666666666666,\"#ed7953\"],[0.7777777777777778,\"#fb9f3a\"],[0.8888888888888888,\"#fdca26\"],[1.0,\"#f0f921\"]],\"type\":\"surface\"}],\"table\":[{\"cells\":{\"fill\":{\"color\":\"#EBF0F8\"},\"line\":{\"color\":\"white\"}},\"header\":{\"fill\":{\"color\":\"#C8D4E3\"},\"line\":{\"color\":\"white\"}},\"type\":\"table\"}]},\"layout\":{\"annotationdefaults\":{\"arrowcolor\":\"#2a3f5f\",\"arrowhead\":0,\"arrowwidth\":1},\"autotypenumbers\":\"strict\",\"coloraxis\":{\"colorbar\":{\"outlinewidth\":0,\"ticks\":\"\"}},\"colorscale\":{\"diverging\":[[0,\"#8e0152\"],[0.1,\"#c51b7d\"],[0.2,\"#de77ae\"],[0.3,\"#f1b6da\"],[0.4,\"#fde0ef\"],[0.5,\"#f7f7f7\"],[0.6,\"#e6f5d0\"],[0.7,\"#b8e186\"],[0.8,\"#7fbc41\"],[0.9,\"#4d9221\"],[1,\"#276419\"]],\"sequential\":[[0.0,\"#0d0887\"],[0.1111111111111111,\"#46039f\"],[0.2222222222222222,\"#7201a8\"],[0.3333333333333333,\"#9c179e\"],[0.4444444444444444,\"#bd3786\"],[0.5555555555555556,\"#d8576b\"],[0.6666666666666666,\"#ed7953\"],[0.7777777777777778,\"#fb9f3a\"],[0.8888888888888888,\"#fdca26\"],[1.0,\"#f0f921\"]],\"sequentialminus\":[[0.0,\"#0d0887\"],[0.1111111111111111,\"#46039f\"],[0.2222222222222222,\"#7201a8\"],[0.3333333333333333,\"#9c179e\"],[0.4444444444444444,\"#bd3786\"],[0.5555555555555556,\"#d8576b\"],[0.6666666666666666,\"#ed7953\"],[0.7777777777777778,\"#fb9f3a\"],[0.8888888888888888,\"#fdca26\"],[1.0,\"#f0f921\"]]},\"colorway\":[\"#636efa\",\"#EF553B\",\"#00cc96\",\"#ab63fa\",\"#FFA15A\",\"#19d3f3\",\"#FF6692\",\"#B6E880\",\"#FF97FF\",\"#FECB52\"],\"font\":{\"color\":\"#2a3f5f\"},\"geo\":{\"bgcolor\":\"white\",\"lakecolor\":\"white\",\"landcolor\":\"#E5ECF6\",\"showlakes\":true,\"showland\":true,\"subunitcolor\":\"white\"},\"hoverlabel\":{\"align\":\"left\"},\"hovermode\":\"closest\",\"mapbox\":{\"style\":\"light\"},\"paper_bgcolor\":\"white\",\"plot_bgcolor\":\"#E5ECF6\",\"polar\":{\"angularaxis\":{\"gridcolor\":\"white\",\"linecolor\":\"white\",\"ticks\":\"\"},\"bgcolor\":\"#E5ECF6\",\"radialaxis\":{\"gridcolor\":\"white\",\"linecolor\":\"white\",\"ticks\":\"\"}},\"scene\":{\"xaxis\":{\"backgroundcolor\":\"#E5ECF6\",\"gridcolor\":\"white\",\"gridwidth\":2,\"linecolor\":\"white\",\"showbackground\":true,\"ticks\":\"\",\"zerolinecolor\":\"white\"},\"yaxis\":{\"backgroundcolor\":\"#E5ECF6\",\"gridcolor\":\"white\",\"gridwidth\":2,\"linecolor\":\"white\",\"showbackground\":true,\"ticks\":\"\",\"zerolinecolor\":\"white\"},\"zaxis\":{\"backgroundcolor\":\"#E5ECF6\",\"gridcolor\":\"white\",\"gridwidth\":2,\"linecolor\":\"white\",\"showbackground\":true,\"ticks\":\"\",\"zerolinecolor\":\"white\"}},\"shapedefaults\":{\"line\":{\"color\":\"#2a3f5f\"}},\"ternary\":{\"aaxis\":{\"gridcolor\":\"white\",\"linecolor\":\"white\",\"ticks\":\"\"},\"baxis\":{\"gridcolor\":\"white\",\"linecolor\":\"white\",\"ticks\":\"\"},\"bgcolor\":\"#E5ECF6\",\"caxis\":{\"gridcolor\":\"white\",\"linecolor\":\"white\",\"ticks\":\"\"}},\"title\":{\"x\":0.05},\"xaxis\":{\"automargin\":true,\"gridcolor\":\"white\",\"linecolor\":\"white\",\"ticks\":\"\",\"title\":{\"standoff\":15},\"zerolinecolor\":\"white\",\"zerolinewidth\":2},\"yaxis\":{\"automargin\":true,\"gridcolor\":\"white\",\"linecolor\":\"white\",\"ticks\":\"\",\"title\":{\"standoff\":15},\"zerolinecolor\":\"white\",\"zerolinewidth\":2}}},\"title\":{\"text\":\"Random Forest Feature Importance\"},\"xaxis\":{\"showgrid\":false,\"showline\":false,\"ticklen\":5,\"zeroline\":false},\"yaxis\":{\"gridwidth\":2,\"showgrid\":false,\"ticklen\":5,\"title\":{\"text\":\"Feature Importance\"},\"zeroline\":false}},                        {\"responsive\": true}                    ).then(function(){\n",
       "                            \n",
       "var gd = document.getElementById('9a02d834-1698-4d5b-b36e-f6ccac0e88df');\n",
       "var x = new MutationObserver(function (mutations, observer) {{\n",
       "        var display = window.getComputedStyle(gd).display;\n",
       "        if (!display || display === 'none') {{\n",
       "            console.log([gd, 'removed!']);\n",
       "            Plotly.purge(gd);\n",
       "            observer.disconnect();\n",
       "        }}\n",
       "}});\n",
       "\n",
       "// Listen for the removal of the full notebook cells\n",
       "var notebookContainer = gd.closest('#notebook-container');\n",
       "if (notebookContainer) {{\n",
       "    x.observe(notebookContainer, {childList: true});\n",
       "}}\n",
       "\n",
       "// Listen for the clearing of the current output cell\n",
       "var outputEl = gd.closest('.output');\n",
       "if (outputEl) {{\n",
       "    x.observe(outputEl, {childList: true});\n",
       "}}\n",
       "\n",
       "                        })                };                });            </script>        </div>"
      ]
     },
     "metadata": {},
     "output_type": "display_data"
    }
   ],
   "source": [
    "RF=RandomForestClassifier(n_estimators=100)\n",
    "\n",
    "RF.fit(X_cor_train,y_cor_train)\n",
    "\n",
    "y_pred=RF.predict(X_cor_test)\n",
    "\n",
    "print(\"Accuracy:\",metrics.accuracy_score(y_cor_test, y_pred))\n",
    "CM_plot(y_cor_test, y_pred)\n",
    "RF_plot(RF,X_cor)"
   ]
  },
  {
   "cell_type": "markdown",
   "id": "a124a874",
   "metadata": {},
   "source": [
    "### RF pro cely dataset, s redukci dimenze na 20"
   ]
  },
  {
   "cell_type": "code",
   "execution_count": 109,
   "id": "c615dcc4",
   "metadata": {},
   "outputs": [
    {
     "name": "stdout",
     "output_type": "stream",
     "text": [
      "Accuracy: 0.8741496598639455\n"
     ]
    },
    {
     "data": {
      "image/png": "[encoded data removed]",
      "text/plain": [
       "<Figure size 432x288 with 2 Axes>"
      ]
     },
     "metadata": {
      "needs_background": "light"
     },
     "output_type": "display_data"
    }
   ],
   "source": [
    "RF=RandomForestClassifier(n_estimators=100)\n",
    "\n",
    "RF.fit(X_dr_train,y_dr_train)\n",
    "\n",
    "y_pred=RF.predict(X_dr_test)\n",
    "\n",
    "print(\"Accuracy:\",metrics.accuracy_score(y_dr_test, y_pred))\n",
    "\n",
    "from sklearn.metrics import confusion_matrix\n",
    "def CM_plot(test, prediction):\n",
    "    \n",
    "    RF_CM = confusion_matrix(test, prediction)\n",
    "    \n",
    "    ax = sns.heatmap(RF_CM/np.sum(RF_CM), annot=True, \n",
    "            fmt='.2%', cmap='Blues')\n",
    "\n",
    "    ax.set_title('Confusion Matrix \\n\\n');\n",
    "    ax.set_xlabel('\\nPredicted Attrition')\n",
    "    ax.set_ylabel('Actual Attrition ');\n",
    "\n",
    "    ## Ticket labels - List must be in alphabetical order\n",
    "    ax.xaxis.set_ticklabels(['Stay','Leave'])\n",
    "    ax.yaxis.set_ticklabels(['Stay','Leave'])\n",
    "\n",
    "    ## Display the visualization of the Confusion Matrix.\n",
    "    plt.show()\n",
    "    \n",
    "    \n",
    "CM_plot(y_dr_test, y_pred)"
   ]
  },
  {
   "cell_type": "markdown",
   "id": "a7fc9a14",
   "metadata": {},
   "source": [
    "### RF pro korelovany dataset s redukci dimenze na 15"
   ]
  },
  {
   "cell_type": "code",
   "execution_count": 110,
   "id": "d097b688",
   "metadata": {},
   "outputs": [
    {
     "name": "stdout",
     "output_type": "stream",
     "text": [
      "Accuracy: 0.8809523809523809\n"
     ]
    },
    {
     "data": {
      "image/png": "[encoded data removed]",
      "text/plain": [
       "<Figure size 432x288 with 2 Axes>"
      ]
     },
     "metadata": {
      "needs_background": "light"
     },
     "output_type": "display_data"
    }
   ],
   "source": [
    "RF=RandomForestClassifier(n_estimators=100)\n",
    "\n",
    "RF.fit(X_cor_dr_train,y_cor_dr_train)\n",
    "\n",
    "y_pred=RF.predict(X_cor_dr_test)\n",
    "\n",
    "print(\"Accuracy:\",metrics.accuracy_score(y_cor_dr_test, y_pred))\n",
    "CM_plot(y_cor_dr_test, y_pred)"
   ]
  },
  {
   "cell_type": "markdown",
   "id": "b14d4217",
   "metadata": {},
   "source": [
    "Z predchozich grafu muzeme vycist jake parametry, jsou dulezite pro rozhodovani v algoritmu RF. \n",
    "Podobne grafy muzeme vytvorit take pro RF klasifikatory, trenovane na datasetu s redukovanymi dimenzemi, \n",
    "bohuzel nejsme schopni interpretovat jednotlive parametry."
   ]
  },
  {
   "cell_type": "markdown",
   "id": "9de89076",
   "metadata": {},
   "source": [
    "###### Nejvyssi presnosti dosahl model trenovany na datasetu s vybranymi hodnotami korelujicimi s Odchodem zamestnancu, ktery byl nadale redukovan v poctu dimenzi. "
   ]
  },
  {
   "cell_type": "markdown",
   "id": "34e8d18c",
   "metadata": {},
   "source": [
    "### Linearni Support Vector Classifier"
   ]
  },
  {
   "cell_type": "markdown",
   "id": "128de4c3",
   "metadata": {},
   "source": [
    "Metodu LinSVC, jako predesle metody otestujeme na redukovanem datasetu, ktery dosahl nejlepsiho vysledku pri linearni regresy a take puvodnim datasetu."
   ]
  },
  {
   "cell_type": "code",
   "execution_count": 173,
   "id": "400bd2aa",
   "metadata": {},
   "outputs": [
    {
     "data": {
      "image/png": "[encoded data removed]",
      "text/plain": [
       "<Figure size 432x288 with 2 Axes>"
      ]
     },
     "metadata": {
      "needs_background": "light"
     },
     "output_type": "display_data"
    }
   ],
   "source": [
    "SVM = svm.LinearSVC(max_iter=10000)\n",
    "SVM.fit(X_cor_dr_train, y_cor_dr_train)\n",
    "y_pred=SVM.predict(X_cor_dr_test)\n",
    "SVM.score(X_cor_dr_test,y_cor_dr_test)\n",
    "CM_plot(y_cor_dr_test, y_pred)"
   ]
  },
  {
   "cell_type": "code",
   "execution_count": 168,
   "id": "edc90ed7",
   "metadata": {},
   "outputs": [
    {
     "name": "stderr",
     "output_type": "stream",
     "text": [
      "c:\\users\\kudrn\\pycharmprojects\\san\\venv\\lib\\site-packages\\sklearn\\svm\\_base.py:1206: ConvergenceWarning:\n",
      "\n",
      "Liblinear failed to converge, increase the number of iterations.\n",
      "\n"
     ]
    },
    {
     "data": {
      "image/png": "[encoded data removed]",
      "text/plain": [
       "<Figure size 432x288 with 2 Axes>"
      ]
     },
     "metadata": {
      "needs_background": "light"
     },
     "output_type": "display_data"
    }
   ],
   "source": [
    "SVM = svm.LinearSVC(max_iter=90000000) # 90 000 000 iter cas: 1h++ \n",
    "SVM.fit(X_train, y_train)\n",
    "y_pred=SVM.predict(X_test)\n",
    "SVM.score(X_test,y_test)\n",
    "CM_plot(y_test, y_pred)"
   ]
  },
  {
   "cell_type": "markdown",
   "id": "c1f25fbf",
   "metadata": {},
   "source": [
    "Pri treninku modelu na celem datasetu, nikterak zredukovanem je potreba navysit pocet iteraci, aby metoda konvergovala. V pripade ponechani stejneho poctu iteraci, model zaradi veskere zamestnance do skupiny 'Zustanou'(Attrition_No) a je spokojeny s pravdepodobnosti 84%, coz je presne podil zamestnancu, kteri firmu neopusti. S navysenim poctu iteraci pri tolika dimenzich nesmirne roste vypocetni cas. Tento vypocet trval dele nez hodinu. Ale zato jsme vytvorili model, ktery je podobne presny jako Neuronova sit."
   ]
  },
  {
   "cell_type": "code",
   "execution_count": null,
   "id": "84b51715",
   "metadata": {},
   "outputs": [],
   "source": []
  },
  {
   "cell_type": "markdown",
   "id": "241b7849",
   "metadata": {},
   "source": [
    "### Tvorba vlastni neuronove site"
   ]
  },
  {
   "cell_type": "markdown",
   "id": "baf8ac65",
   "metadata": {},
   "source": [
    "Architektura site byla sestavena dle parametru pro nejlepsi uceni site na datech ktere mame k dispozici. Trenovani a validaci site provedeme nejdive na korelovanem datasetu s redukci dimenzi."
   ]
  },
  {
   "cell_type": "code",
   "execution_count": 120,
   "id": "b7d8b7af",
   "metadata": {},
   "outputs": [
    {
     "name": "stderr",
     "output_type": "stream",
     "text": [
      "C:\\Users\\kudrn\\AppData\\Local\\Temp\\ipykernel_20732\\214253506.py:22: DeprecationWarning:\n",
      "\n",
      "KerasClassifier is deprecated, use Sci-Keras (https://github.com/adriangb/scikeras) instead.\n",
      "\n"
     ]
    }
   ],
   "source": [
    "sc = StandardScaler()\n",
    "X_crossVal = sc.fit_transform(X_cor_train)\n",
    "X_cor_train_NN = sc.fit_transform(X_cor_train)\n",
    "X_cor_test_NN = sc.transform(X_cor_test)\n",
    "\n",
    "dropout = 0.1\n",
    "epochs = 100\n",
    "batch_size = 30\n",
    "optimizer = 'adam'\n",
    "k = 20\n",
    "\n",
    "\n",
    "def build_classifier():\n",
    "    classifier = Sequential()\n",
    "    classifier.add(Dense(16, kernel_initializer=\"truncated_normal\", activation = 'tanh', input_shape = (X_cor_train_NN.shape[1],)))\n",
    "    classifier.add(Dropout(dropout))\n",
    "    classifier.add(Dense(8, kernel_initializer=\"truncated_normal\", activation = 'tanh', ))\n",
    "    classifier.add(Dropout(dropout))\n",
    "    classifier.add(Dense(1, kernel_initializer=\"truncated_normal\", activation = 'sigmoid', )) #outputlayer\n",
    "    classifier.compile(optimizer = optimizer, loss = 'binary_crossentropy', metrics = [\"accuracy\"])\n",
    "    return classifier\n",
    "classifier = KerasClassifier(build_fn = build_classifier, batch_size = batch_size, epochs = epochs, verbose=0)\n",
    "accuracies = cross_val_score(estimator = classifier, X = X_cor_train_NN, y = y_cor_train, cv = 30)\n",
    "max = accuracies.max()"
   ]
  },
  {
   "cell_type": "code",
   "execution_count": 219,
   "id": "ec322a82",
   "metadata": {},
   "outputs": [
    {
     "name": "stdout",
     "output_type": "stream",
     "text": [
      "Best accuracy:  0.9411764740943909\n"
     ]
    },
    {
     "data": {
      "image/png": "[encoded data removed]",
      "text/plain": [
       "<Figure size 432x288 with 2 Axes>"
      ]
     },
     "metadata": {
      "needs_background": "light"
     },
     "output_type": "display_data"
    }
   ],
   "source": [
    "print(\"Best accuracy: \",max)\n",
    "classifier.fit(X_cor_train_NN, y_cor_train)\n",
    "pred = classifier.predict(X_cor_test_NN)\n",
    "CM_plot(y_cor_test, pred)"
   ]
  },
  {
   "cell_type": "markdown",
   "id": "ae4b9a61",
   "metadata": {},
   "source": [
    "Sit behem crosvalidace dosahla nejvyssi presnosti 94%, pokud se ale podivame na confusion matrix, dozvime se ze odchod zamestnance predpovime poze v 9%, z toho spravne pouze u 6% zamestnancu, to pokud se v spolecnosti vyskytuje 16% zamestnancu, kteri chteji spolecnost opustit neni nase presnost odhadu ani 50% a tudiz se na vetsi cast zamestnancu nezamerime a muzeme pouze eliminovat odchod ne mu plne zabranit."
   ]
  },
  {
   "cell_type": "markdown",
   "id": "a8bf26af",
   "metadata": {},
   "source": [
    "Trenink site na uplnem datasetu. Provadime pro srovnani s vysledky predchoziho treninku na redukovanem datasetu. S myslenkou uspory vypocetniho casu."
   ]
  },
  {
   "cell_type": "code",
   "execution_count": 221,
   "id": "3c7c8ff8",
   "metadata": {},
   "outputs": [
    {
     "name": "stderr",
     "output_type": "stream",
     "text": [
      "C:\\Users\\kudrn\\AppData\\Local\\Temp\\ipykernel_20732\\2185062598.py:22: DeprecationWarning:\n",
      "\n",
      "KerasClassifier is deprecated, use Sci-Keras (https://github.com/adriangb/scikeras) instead.\n",
      "\n"
     ]
    }
   ],
   "source": [
    "sc = StandardScaler()\n",
    "X_crossVal = sc.fit_transform(X_train)\n",
    "X_cor_train_NN = sc.fit_transform(X_train)\n",
    "X_cor_test_NN = sc.transform(X_test)\n",
    "\n",
    "dropout = 0.1\n",
    "epochs = 100\n",
    "batch_size = 30\n",
    "optimizer = 'adam'\n",
    "k = 20\n",
    "\n",
    "\n",
    "def build_classifier():\n",
    "    classifier = Sequential()\n",
    "    classifier.add(Dense(16, kernel_initializer=\"truncated_normal\", activation = 'tanh', input_shape = (X_cor_train_NN.shape[1],)))\n",
    "    classifier.add(Dropout(dropout))\n",
    "    classifier.add(Dense(8, kernel_initializer=\"truncated_normal\", activation = 'tanh', ))\n",
    "    classifier.add(Dropout(dropout))\n",
    "    classifier.add(Dense(1, kernel_initializer=\"truncated_normal\", activation = 'sigmoid', )) #outputlayer\n",
    "    classifier.compile(optimizer = optimizer, loss = 'binary_crossentropy', metrics = [\"accuracy\"])\n",
    "    return classifier\n",
    "classifier = KerasClassifier(build_fn = build_classifier, batch_size = batch_size, epochs = epochs, verbose=0)\n",
    "accuracies = cross_val_score(estimator = classifier, X = X_cor_train_NN, y = y_train, cv = 30)\n",
    "max = accuracies.max()"
   ]
  },
  {
   "cell_type": "code",
   "execution_count": 222,
   "id": "fcceaced",
   "metadata": {},
   "outputs": [
    {
     "name": "stdout",
     "output_type": "stream",
     "text": [
      "Best accuracy:  1.0\n"
     ]
    },
    {
     "data": {
      "image/png": "[encoded data removed]",
      "text/plain": [
       "<Figure size 432x288 with 2 Axes>"
      ]
     },
     "metadata": {
      "needs_background": "light"
     },
     "output_type": "display_data"
    }
   ],
   "source": [
    "print(\"Best accuracy: \",max)\n",
    "classifier.fit(X_cor_train_NN, y_cor_train)\n",
    "pred = classifier.predict(X_cor_test_NN)\n",
    "CM_plot(y_cor_test, pred)"
   ]
  },
  {
   "cell_type": "markdown",
   "id": "e6d824f4",
   "metadata": {},
   "source": [
    "Sit behem crosvalidace dosahla nejvyssi presnosti 100%, pokud se ale podivame na confusion matrix, dozvime se ze odchod zamestnance predpovime poze ve 3%, z toho spravne pouze u 0.45% zamestnancu. "
   ]
  },
  {
   "cell_type": "markdown",
   "id": "c64c22ed",
   "metadata": {},
   "source": [
    "Navzdory velmi komplexnimu datasetu, ve kterem nechybeli data, a pri prvnim pohledu by se zdalo, ze zde musime najit zavislost odchodu zamestnancu s nekterym parametrem, neni to zdaleka jednoduchy ukol, se kterym by si vytvorene modely snadno poradily.  "
   ]
  },
  {
   "cell_type": "markdown",
   "id": "aaf664c6",
   "metadata": {},
   "source": [
    "Z grafu a nasledneho testovani hypotez je mozne sledovat ze jsou ruzna rozdeleni v ruznych skupinach zamestnancu. Provedl jsem chi kvadrat test, ktery odhalil, ze neni stejny podil v zamestnancihc kteri odchazi mezi svobodnymi a ostatnimi zamestnanci, a take pri ruzne spokojenosti se zamestnanim neni stejna mira odchodu ze zamestnani test jsem provedl na hladine vyznamnosti 0,95."
   ]
  },
  {
   "cell_type": "markdown",
   "id": "7b1b35af",
   "metadata": {},
   "source": [
    "S myslenkou uspory vypocetniho casu a zmensenim dimenze prostoru s daty, jsem se rozhodl z datasetu vybrat parametry, ktere koreluji s Odchodem zamestnancu, jak pozitivne tak negativne. Hladinu jsem urcil jako 0,8, toto cislo jsem zvolil odhadem z korelovanych parametru, kde se na hodnote 0,8 vyzname lamala korelace. Dale jsem pomoci metody PCA redukoval dimenze a sledoval jak ze bude menit presnost linearni regrese. To jsem provedl jednak pro puvodni dataset a take pro dataset jiz vybranych hodnot. Nejlepsiho vysledku v linearni regresi dosahl dataset jiz redukovany rucne a pote s naslednou redukci dimenze na 15 dimenzi."
   ]
  },
  {
   "cell_type": "markdown",
   "id": "d8ce8eb9",
   "metadata": {},
   "source": [
    "Predchozim zjednodusovanim datasetu jsem vytvoril 4 ruzne datasety, vytvoril jsem modely Random Forest, trenovane na jednotlivych datasetech. Sledoval jsem presnost modelu na konofrmacnich maticich. Nejlepsiho vysledku dosahl model trenovany na datasetu s nejmensim poctem dimenzi, tedy predvybranemu z korelovanych hodnot a nadale redukovanym na 15 dimenzi."
   ]
  },
  {
   "cell_type": "markdown",
   "id": "4b3d67d1",
   "metadata": {},
   "source": [
    "Dale jsem vytvoril Linearni Support Vector Classifier, a trenoval ho jiz na dvou datasetech, v prvnim pripade na redukovanem datasetu s 15 dimenzemi, zde trenink probehl velmi rychle ale presnost nebyla vysoka. Druhy model byl trenovan na datasetu puvodnim, zde trenink trval vice nez hodinu, ale presnost byla vyrazne lepsi."
   ]
  },
  {
   "cell_type": "markdown",
   "id": "c1a18891",
   "metadata": {},
   "source": [
    "Jako posledni model jsem vytvoril model neuronove site. Neuronova sit dosahla srovnatelne presnosti s LinSVC trenovane na celem datasetu. Vyhodou je ze trenink trval zlomek casu. Dale lepsich vysledku dosahla sit trenovana na redukovanem datasetu s 15 parametry."
   ]
  },
  {
   "cell_type": "markdown",
   "id": "d6eaec6c",
   "metadata": {},
   "source": [
    "Celkove me prekvapilo, ze lepsich vysledku dosahly modely, trenovane na redukovanych datasetech, z toho co jsem nastudoval o pouzitych modelech, bych cekal, ze modely budou schopny ignorovat vlastnosti, ktere nejsou potreba k spravnemu urceni Odchodu zamestnance. Specialne neuronove site, ktere vytvareji 'vahy' jdnotlivych vstupnich parametru."
   ]
  }
 ],
 "metadata": {
  "kernelspec": {
   "display_name": "Python 3 (ipykernel)",
   "language": "python",
   "name": "python3"
  },
  "language_info": {
   "codemirror_mode": {
    "name": "ipython",
    "version": 3
   },
   "file_extension": ".py",
   "mimetype": "text/x-python",
   "name": "python",
   "nbconvert_exporter": "python",
   "pygments_lexer": "ipython3",
   "version": "3.9.5"
  }
 },
 "nbformat": 4,
 "nbformat_minor": 5
}
